{
 "cells": [
  {
   "cell_type": "code",
   "execution_count": 1,
   "id": "ebb453f1-b290-45ea-a80d-816d3c106277",
   "metadata": {
    "tags": []
   },
   "outputs": [],
   "source": [
    "import numpy as np\n",
    "from datascience import *\n",
    "\n",
    "# These lines set up graphing capabilities.\n",
    "import matplotlib\n",
    "%matplotlib inline\n",
    "import matplotlib.pyplot as plt\n",
    "plt.style.use('fivethirtyeight')\n",
    "import warnings\n",
    "warnings.simplefilter('ignore', FutureWarning)"
   ]
  },
  {
   "cell_type": "code",
   "execution_count": 4,
   "id": "585d08d2-5a9c-4de7-aa09-79d3fbb1b7af",
   "metadata": {
    "tags": []
   },
   "outputs": [],
   "source": [
    "data = Table.read_table(\"NaturalSciences_Dataset.csv\", low_memory = False)"
   ]
  },
  {
   "cell_type": "code",
   "execution_count": 6,
   "id": "71587882-b2bf-4cad-b98a-7188a63da890",
   "metadata": {
    "tags": []
   },
   "outputs": [
    {
     "data": {
      "text/html": [
       "<table border=\"1\" class=\"dataframe\">\n",
       "    <thead>\n",
       "        <tr>\n",
       "            <th>OBJECTID</th> <th>FOD_ID</th> <th>FPA_ID</th> <th>SOURCE_SYSTEM_TYPE</th> <th>SOURCE_SYSTEM</th> <th>NWCG_REPORTING_AGENCY</th> <th>NWCG_REPORTING_UNIT_ID</th> <th>NWCG_REPORTING_UNIT_NAME</th> <th>SOURCE_REPORTING_UNIT</th> <th>SOURCE_REPORTING_UNIT_NAME</th> <th>LOCAL_INCIDENT_ID</th> <th>FIRE_NAME</th> <th>FIRE_YEAR</th> <th>DISCOVERY_DATE</th> <th>DISCOVERY_DOY</th> <th>STAT_CAUSE_CODE</th> <th>STAT_CAUSE_DESCR</th> <th>FIRE_SIZE</th> <th>FIRE_SIZE_CLASS</th> <th>LATITUDE</th> <th>LONGITUDE</th> <th>OWNER_CODE</th> <th>OWNER_DESCR</th> <th>STATE</th> <th>COUNTY</th> <th>FIPS_CODE</th> <th>FIPS_NAME</th> <th>Shape</th>\n",
       "        </tr>\n",
       "    </thead>\n",
       "    <tbody>\n",
       "        <tr>\n",
       "            <td>1067488 </td> <td>1302561</td> <td>CDF_2010_56_2229_001566      </td> <td>NONFED            </td> <td>ST-CACDF     </td> <td>ST/C&L               </td> <td>USCABEU               </td> <td>San Benito-Monterey Unit</td> <td>CABEU                </td> <td>CDF - San Benito-Monterey Unit</td> <td>1566             </td> <td>25                       </td> <td>2010     </td> <td>2.45534e+06   </td> <td>139          </td> <td>2              </td> <td>Equipment Use   </td> <td>70       </td> <td>C              </td> <td>36.7669 </td> <td>-121.303 </td> <td>14        </td> <td>MISSING/NOT SPECIFIED</td> <td>CA   </td> <td>nan   </td> <td>nan      </td> <td>nan      </td> <td>nan  </td>\n",
       "        </tr>\n",
       "        <tr>\n",
       "            <td>1067489 </td> <td>1302566</td> <td>CDF_2010_56_2229_001806      </td> <td>NONFED            </td> <td>ST-CACDF     </td> <td>ST/C&L               </td> <td>USCABEU               </td> <td>San Benito-Monterey Unit</td> <td>CABEU                </td> <td>CDF - San Benito-Monterey Unit</td> <td>1806             </td> <td>BOLADO                   </td> <td>2010     </td> <td>2.45536e+06   </td> <td>159          </td> <td>9              </td> <td>Miscellaneous   </td> <td>0.5      </td> <td>B              </td> <td>36.7769 </td> <td>-121.311 </td> <td>14        </td> <td>MISSING/NOT SPECIFIED</td> <td>CA   </td> <td>nan   </td> <td>nan      </td> <td>nan      </td> <td>nan  </td>\n",
       "        </tr>\n",
       "        <tr>\n",
       "            <td>1067490 </td> <td>1302568</td> <td>CDF_2010_56_2229_001857      </td> <td>NONFED            </td> <td>ST-CACDF     </td> <td>ST/C&L               </td> <td>USCABEU               </td> <td>San Benito-Monterey Unit</td> <td>CABEU                </td> <td>CDF - San Benito-Monterey Unit</td> <td>1857             </td> <td>SANTA ANA RD  HOLLISTER  </td> <td>2010     </td> <td>2.45536e+06   </td> <td>163          </td> <td>9              </td> <td>Miscellaneous   </td> <td>0.1      </td> <td>A              </td> <td>36.8561 </td> <td>-121.381 </td> <td>14        </td> <td>MISSING/NOT SPECIFIED</td> <td>CA   </td> <td>nan   </td> <td>nan      </td> <td>nan      </td> <td>nan  </td>\n",
       "        </tr>\n",
       "        <tr>\n",
       "            <td>1067491 </td> <td>1302570</td> <td>CDF_2010_56_2229_001897      </td> <td>NONFED            </td> <td>ST-CACDF     </td> <td>ST/C&L               </td> <td>USCABEU               </td> <td>San Benito-Monterey Unit</td> <td>CABEU                </td> <td>CDF - San Benito-Monterey Unit</td> <td>1897             </td> <td>HOSPITAL                 </td> <td>2010     </td> <td>2.45536e+06   </td> <td>165          </td> <td>9              </td> <td>Miscellaneous   </td> <td>0.1      </td> <td>A              </td> <td>36.8181 </td> <td>-121.391 </td> <td>14        </td> <td>MISSING/NOT SPECIFIED</td> <td>CA   </td> <td>nan   </td> <td>nan      </td> <td>nan      </td> <td>nan  </td>\n",
       "        </tr>\n",
       "        <tr>\n",
       "            <td>1067492 </td> <td>1302576</td> <td>CDF_2010_56_2229_002326      </td> <td>NONFED            </td> <td>ST-CACDF     </td> <td>ST/C&L               </td> <td>USCABEU               </td> <td>San Benito-Monterey Unit</td> <td>CABEU                </td> <td>CDF - San Benito-Monterey Unit</td> <td>2326             </td> <td>HWY 101  S/ HWY 129      </td> <td>2010     </td> <td>2.45539e+06   </td> <td>192          </td> <td>9              </td> <td>Miscellaneous   </td> <td>1        </td> <td>B              </td> <td>36.8831 </td> <td>-121.562 </td> <td>14        </td> <td>MISSING/NOT SPECIFIED</td> <td>CA   </td> <td>nan   </td> <td>nan      </td> <td>nan      </td> <td>nan  </td>\n",
       "        </tr>\n",
       "        <tr>\n",
       "            <td>1067493 </td> <td>1302585</td> <td>CDF_2010_56_2229_002553      </td> <td>NONFED            </td> <td>ST-CACDF     </td> <td>ST/C&L               </td> <td>USCABEU               </td> <td>San Benito-Monterey Unit</td> <td>CABEU                </td> <td>CDF - San Benito-Monterey Unit</td> <td>2553             </td> <td>FAIRVIEW                 </td> <td>2010     </td> <td>2.45541e+06   </td> <td>210          </td> <td>5              </td> <td>Debris Burning  </td> <td>0.3      </td> <td>B              </td> <td>36.9361 </td> <td>-121.388 </td> <td>14        </td> <td>MISSING/NOT SPECIFIED</td> <td>CA   </td> <td>nan   </td> <td>nan      </td> <td>nan      </td> <td>nan  </td>\n",
       "        </tr>\n",
       "        <tr>\n",
       "            <td>1067494 </td> <td>1302594</td> <td>CDF_2010_56_2229_003120      </td> <td>NONFED            </td> <td>ST-CACDF     </td> <td>ST/C&L               </td> <td>USCABEU               </td> <td>San Benito-Monterey Unit</td> <td>CABEU                </td> <td>CDF - San Benito-Monterey Unit</td> <td>3120             </td> <td>FREEMONT                 </td> <td>2010     </td> <td>2.45545e+06   </td> <td>254          </td> <td>2              </td> <td>Equipment Use   </td> <td>0.5      </td> <td>B              </td> <td>36.7581 </td> <td>-121.503 </td> <td>14        </td> <td>MISSING/NOT SPECIFIED</td> <td>CA   </td> <td>nan   </td> <td>nan      </td> <td>nan      </td> <td>nan  </td>\n",
       "        </tr>\n",
       "        <tr>\n",
       "            <td>1067505 </td> <td>1302629</td> <td>CDF_2010_56_2229_000812      </td> <td>NONFED            </td> <td>ST-CACDF     </td> <td>ST/C&L               </td> <td>USCABEU               </td> <td>San Benito-Monterey Unit</td> <td>CABEU                </td> <td>CDF - San Benito-Monterey Unit</td> <td>812              </td> <td>HOSPITAL                 </td> <td>2010     </td> <td>2.45527e+06   </td> <td>75           </td> <td>9              </td> <td>Miscellaneous   </td> <td>0.1      </td> <td>A              </td> <td>36.8181 </td> <td>-121.391 </td> <td>14        </td> <td>MISSING/NOT SPECIFIED</td> <td>CA   </td> <td>nan   </td> <td>nan      </td> <td>nan      </td> <td>nan  </td>\n",
       "        </tr>\n",
       "        <tr>\n",
       "            <td>1067506 </td> <td>1302634</td> <td>CDF_2010_56_2229_001381      </td> <td>NONFED            </td> <td>ST-CACDF     </td> <td>ST/C&L               </td> <td>USCABEU               </td> <td>San Benito-Monterey Unit</td> <td>CABEU                </td> <td>CDF - San Benito-Monterey Unit</td> <td>1381             </td> <td>HWY 101  S/ HWY 129      </td> <td>2010     </td> <td>2.45532e+06   </td> <td>121          </td> <td>9              </td> <td>Miscellaneous   </td> <td>1        </td> <td>B              </td> <td>36.8831 </td> <td>-121.562 </td> <td>14        </td> <td>MISSING/NOT SPECIFIED</td> <td>CA   </td> <td>nan   </td> <td>nan      </td> <td>nan      </td> <td>nan  </td>\n",
       "        </tr>\n",
       "        <tr>\n",
       "            <td>1067507 </td> <td>1302640</td> <td>CDF_2010_56_2229_002097      </td> <td>NONFED            </td> <td>ST-CACDF     </td> <td>ST/C&L               </td> <td>USCABEU               </td> <td>San Benito-Monterey Unit</td> <td>CABEU                </td> <td>CDF - San Benito-Monterey Unit</td> <td>2097             </td> <td>SAN ARDO                 </td> <td>2010     </td> <td>2.45537e+06   </td> <td>174          </td> <td>9              </td> <td>Miscellaneous   </td> <td>16       </td> <td>C              </td> <td>35.9531 </td> <td>-120.867 </td> <td>14        </td> <td>MISSING/NOT SPECIFIED</td> <td>CA   </td> <td>nan   </td> <td>nan      </td> <td>nan      </td> <td>nan  </td>\n",
       "        </tr>\n",
       "    </tbody>\n",
       "</table>\n",
       "<p>... (937962 rows omitted)</p>"
      ],
      "text/plain": [
       "OBJECTID | FOD_ID  | FPA_ID                        | SOURCE_SYSTEM_TYPE | SOURCE_SYSTEM | NWCG_REPORTING_AGENCY | NWCG_REPORTING_UNIT_ID | NWCG_REPORTING_UNIT_NAME | SOURCE_REPORTING_UNIT | SOURCE_REPORTING_UNIT_NAME     | LOCAL_INCIDENT_ID | FIRE_NAME                 | FIRE_YEAR | DISCOVERY_DATE | DISCOVERY_DOY | STAT_CAUSE_CODE | STAT_CAUSE_DESCR | FIRE_SIZE | FIRE_SIZE_CLASS | LATITUDE | LONGITUDE | OWNER_CODE | OWNER_DESCR           | STATE | COUNTY | FIPS_CODE | FIPS_NAME | Shape\n",
       "1067488  | 1302561 | CDF_2010_56_2229_001566       | NONFED             | ST-CACDF      | ST/C&L                | USCABEU                | San Benito-Monterey Unit | CABEU                 | CDF - San Benito-Monterey Unit | 1566              | 25                        | 2010      | 2.45534e+06    | 139           | 2               | Equipment Use    | 70        | C               | 36.7669  | -121.303  | 14         | MISSING/NOT SPECIFIED | CA    | nan    | nan       | nan       | nan\n",
       "1067489  | 1302566 | CDF_2010_56_2229_001806       | NONFED             | ST-CACDF      | ST/C&L                | USCABEU                | San Benito-Monterey Unit | CABEU                 | CDF - San Benito-Monterey Unit | 1806              | BOLADO                    | 2010      | 2.45536e+06    | 159           | 9               | Miscellaneous    | 0.5       | B               | 36.7769  | -121.311  | 14         | MISSING/NOT SPECIFIED | CA    | nan    | nan       | nan       | nan\n",
       "1067490  | 1302568 | CDF_2010_56_2229_001857       | NONFED             | ST-CACDF      | ST/C&L                | USCABEU                | San Benito-Monterey Unit | CABEU                 | CDF - San Benito-Monterey Unit | 1857              | SANTA ANA RD  HOLLISTER   | 2010      | 2.45536e+06    | 163           | 9               | Miscellaneous    | 0.1       | A               | 36.8561  | -121.381  | 14         | MISSING/NOT SPECIFIED | CA    | nan    | nan       | nan       | nan\n",
       "1067491  | 1302570 | CDF_2010_56_2229_001897       | NONFED             | ST-CACDF      | ST/C&L                | USCABEU                | San Benito-Monterey Unit | CABEU                 | CDF - San Benito-Monterey Unit | 1897              | HOSPITAL                  | 2010      | 2.45536e+06    | 165           | 9               | Miscellaneous    | 0.1       | A               | 36.8181  | -121.391  | 14         | MISSING/NOT SPECIFIED | CA    | nan    | nan       | nan       | nan\n",
       "1067492  | 1302576 | CDF_2010_56_2229_002326       | NONFED             | ST-CACDF      | ST/C&L                | USCABEU                | San Benito-Monterey Unit | CABEU                 | CDF - San Benito-Monterey Unit | 2326              | HWY 101  S/ HWY 129       | 2010      | 2.45539e+06    | 192           | 9               | Miscellaneous    | 1         | B               | 36.8831  | -121.562  | 14         | MISSING/NOT SPECIFIED | CA    | nan    | nan       | nan       | nan\n",
       "1067493  | 1302585 | CDF_2010_56_2229_002553       | NONFED             | ST-CACDF      | ST/C&L                | USCABEU                | San Benito-Monterey Unit | CABEU                 | CDF - San Benito-Monterey Unit | 2553              | FAIRVIEW                  | 2010      | 2.45541e+06    | 210           | 5               | Debris Burning   | 0.3       | B               | 36.9361  | -121.388  | 14         | MISSING/NOT SPECIFIED | CA    | nan    | nan       | nan       | nan\n",
       "1067494  | 1302594 | CDF_2010_56_2229_003120       | NONFED             | ST-CACDF      | ST/C&L                | USCABEU                | San Benito-Monterey Unit | CABEU                 | CDF - San Benito-Monterey Unit | 3120              | FREEMONT                  | 2010      | 2.45545e+06    | 254           | 2               | Equipment Use    | 0.5       | B               | 36.7581  | -121.503  | 14         | MISSING/NOT SPECIFIED | CA    | nan    | nan       | nan       | nan\n",
       "1067505  | 1302629 | CDF_2010_56_2229_000812       | NONFED             | ST-CACDF      | ST/C&L                | USCABEU                | San Benito-Monterey Unit | CABEU                 | CDF - San Benito-Monterey Unit | 812               | HOSPITAL                  | 2010      | 2.45527e+06    | 75            | 9               | Miscellaneous    | 0.1       | A               | 36.8181  | -121.391  | 14         | MISSING/NOT SPECIFIED | CA    | nan    | nan       | nan       | nan\n",
       "1067506  | 1302634 | CDF_2010_56_2229_001381       | NONFED             | ST-CACDF      | ST/C&L                | USCABEU                | San Benito-Monterey Unit | CABEU                 | CDF - San Benito-Monterey Unit | 1381              | HWY 101  S/ HWY 129       | 2010      | 2.45532e+06    | 121           | 9               | Miscellaneous    | 1         | B               | 36.8831  | -121.562  | 14         | MISSING/NOT SPECIFIED | CA    | nan    | nan       | nan       | nan\n",
       "1067507  | 1302640 | CDF_2010_56_2229_002097       | NONFED             | ST-CACDF      | ST/C&L                | USCABEU                | San Benito-Monterey Unit | CABEU                 | CDF - San Benito-Monterey Unit | 2097              | SAN ARDO                  | 2010      | 2.45537e+06    | 174           | 9               | Miscellaneous    | 16        | C               | 35.9531  | -120.867  | 14         | MISSING/NOT SPECIFIED | CA    | nan    | nan       | nan       | nan\n",
       "... (937962 rows omitted)"
      ]
     },
     "execution_count": 6,
     "metadata": {},
     "output_type": "execute_result"
    }
   ],
   "source": [
    "data = data.drop(\"LOCAL_FIRE_REPORT_ID\", \"FIRE_CODE\", \"ICS_209_INCIDENT_NUMBER\", \"ICS_209_NAME\", \"MTBS_ID\", \"MTBS_FIRE_NAME\", \"COMPLEX_NAME\", \"DISCOVERY_TIME\", \"CONT_DATE\", \"CONT_DOY\", \"CONT_TIME\")\n",
    "\n",
    "data"
   ]
  },
  {
   "cell_type": "code",
   "execution_count": 8,
   "id": "9e34fff9-e3a0-4a53-8758-2891b533f911",
   "metadata": {
    "tags": []
   },
   "outputs": [],
   "source": [
    "grouped = data.group(\"STAT_CAUSE_DESCR\")"
   ]
  },
  {
   "cell_type": "code",
   "execution_count": 11,
   "id": "c86c2b01-8255-4aa5-a6fb-7ce38f97e5a6",
   "metadata": {
    "tags": []
   },
   "outputs": [
    {
     "data": {
      "text/html": [
       "<table border=\"1\" class=\"dataframe\">\n",
       "    <thead>\n",
       "        <tr>\n",
       "            <th>STAT_CAUSE_DESCR</th> <th>count</th>\n",
       "        </tr>\n",
       "    </thead>\n",
       "    <tbody>\n",
       "        <tr>\n",
       "            <td>Arson            </td> <td>143363</td>\n",
       "        </tr>\n",
       "        <tr>\n",
       "            <td>Campfire         </td> <td>33820 </td>\n",
       "        </tr>\n",
       "        <tr>\n",
       "            <td>Children         </td> <td>28507 </td>\n",
       "        </tr>\n",
       "        <tr>\n",
       "            <td>Debris Burning   </td> <td>212312</td>\n",
       "        </tr>\n",
       "        <tr>\n",
       "            <td>Equipment Use    </td> <td>73137 </td>\n",
       "        </tr>\n",
       "        <tr>\n",
       "            <td>Fireworks        </td> <td>5968  </td>\n",
       "        </tr>\n",
       "        <tr>\n",
       "            <td>Lightning        </td> <td>138490</td>\n",
       "        </tr>\n",
       "        <tr>\n",
       "            <td>Miscellaneous    </td> <td>174601</td>\n",
       "        </tr>\n",
       "        <tr>\n",
       "            <td>Missing/Undefined</td> <td>82964 </td>\n",
       "        </tr>\n",
       "        <tr>\n",
       "            <td>Powerline        </td> <td>5528  </td>\n",
       "        </tr>\n",
       "        <tr>\n",
       "            <td>Railroad         </td> <td>13432 </td>\n",
       "        </tr>\n",
       "        <tr>\n",
       "            <td>Smoking          </td> <td>24205 </td>\n",
       "        </tr>\n",
       "        <tr>\n",
       "            <td>Structure        </td> <td>1645  </td>\n",
       "        </tr>\n",
       "    </tbody>\n",
       "</table>"
      ],
      "text/plain": [
       "<IPython.core.display.HTML object>"
      ]
     },
     "metadata": {},
     "output_type": "display_data"
    }
   ],
   "source": [
    "grouped.show(13)"
   ]
  },
  {
   "cell_type": "code",
   "execution_count": 25,
   "id": "63562d68-3631-44ef-b601-3b6f7ba51f63",
   "metadata": {
    "tags": []
   },
   "outputs": [
    {
     "ename": "SyntaxError",
     "evalue": "invalid syntax (3114492988.py, line 1)",
     "output_type": "error",
     "traceback": [
      "\u001b[1;36m  Cell \u001b[1;32mIn[25], line 1\u001b[1;36m\u001b[0m\n\u001b[1;33m    conda install -c conda-forge geopandas\u001b[0m\n\u001b[1;37m          ^\u001b[0m\n\u001b[1;31mSyntaxError\u001b[0m\u001b[1;31m:\u001b[0m invalid syntax\n"
     ]
    }
   ],
   "source": [
    "conda install -c conda-forge geopandas\n",
    "\n"
   ]
  },
  {
   "cell_type": "code",
   "execution_count": 20,
   "id": "89c4cc36-84fc-445c-ac1a-a3eb75bf5e02",
   "metadata": {
    "tags": []
   },
   "outputs": [
    {
     "ename": "SyntaxError",
     "evalue": "invalid syntax (227429357.py, line 1)",
     "output_type": "error",
     "traceback": [
      "\u001b[1;36m  Cell \u001b[1;32mIn[20], line 1\u001b[1;36m\u001b[0m\n\u001b[1;33m    pip --install descartes\u001b[0m\n\u001b[1;37m                  ^\u001b[0m\n\u001b[1;31mSyntaxError\u001b[0m\u001b[1;31m:\u001b[0m invalid syntax\n"
     ]
    }
   ],
   "source": [
    "import descartes\n",
    "import geopandas as gpd\n",
    "from shapely.geometry import Point, Polygon\n",
    "import pandas as pd"
   ]
  },
  {
   "cell_type": "code",
   "execution_count": 22,
   "id": "8bbfe34b-5f41-4e8f-a2ac-fb96405cab52",
   "metadata": {
    "tags": []
   },
   "outputs": [
    {
     "data": {
      "text/html": [
       "<table border=\"1\" class=\"dataframe\">\n",
       "    <thead>\n",
       "        <tr>\n",
       "            <th>FIRE_YEAR</th> <th>DISCOVERY_DOY</th> <th>LATITUDE</th> <th>LONGITUDE</th>\n",
       "        </tr>\n",
       "    </thead>\n",
       "    <tbody>\n",
       "        <tr>\n",
       "            <td>2010     </td> <td>139          </td> <td>36.7669 </td> <td>-121.303 </td>\n",
       "        </tr>\n",
       "        <tr>\n",
       "            <td>2010     </td> <td>159          </td> <td>36.7769 </td> <td>-121.311 </td>\n",
       "        </tr>\n",
       "        <tr>\n",
       "            <td>2010     </td> <td>163          </td> <td>36.8561 </td> <td>-121.381 </td>\n",
       "        </tr>\n",
       "        <tr>\n",
       "            <td>2010     </td> <td>165          </td> <td>36.8181 </td> <td>-121.391 </td>\n",
       "        </tr>\n",
       "        <tr>\n",
       "            <td>2010     </td> <td>192          </td> <td>36.8831 </td> <td>-121.562 </td>\n",
       "        </tr>\n",
       "        <tr>\n",
       "            <td>2010     </td> <td>210          </td> <td>36.9361 </td> <td>-121.388 </td>\n",
       "        </tr>\n",
       "        <tr>\n",
       "            <td>2010     </td> <td>254          </td> <td>36.7581 </td> <td>-121.503 </td>\n",
       "        </tr>\n",
       "        <tr>\n",
       "            <td>2010     </td> <td>75           </td> <td>36.8181 </td> <td>-121.391 </td>\n",
       "        </tr>\n",
       "        <tr>\n",
       "            <td>2010     </td> <td>121          </td> <td>36.8831 </td> <td>-121.562 </td>\n",
       "        </tr>\n",
       "        <tr>\n",
       "            <td>2010     </td> <td>174          </td> <td>35.9531 </td> <td>-120.867 </td>\n",
       "        </tr>\n",
       "    </tbody>\n",
       "</table>\n",
       "<p>... (937962 rows omitted)</p>"
      ],
      "text/plain": [
       "FIRE_YEAR | DISCOVERY_DOY | LATITUDE | LONGITUDE\n",
       "2010      | 139           | 36.7669  | -121.303\n",
       "2010      | 159           | 36.7769  | -121.311\n",
       "2010      | 163           | 36.8561  | -121.381\n",
       "2010      | 165           | 36.8181  | -121.391\n",
       "2010      | 192           | 36.8831  | -121.562\n",
       "2010      | 210           | 36.9361  | -121.388\n",
       "2010      | 254           | 36.7581  | -121.503\n",
       "2010      | 75            | 36.8181  | -121.391\n",
       "2010      | 121           | 36.8831  | -121.562\n",
       "2010      | 174           | 35.9531  | -120.867\n",
       "... (937962 rows omitted)"
      ]
     },
     "execution_count": 22,
     "metadata": {},
     "output_type": "execute_result"
    }
   ],
   "source": [
    "clustering_data = data.select(\"FIRE_YEAR\", \"DISCOVERY_DOY\", \"LATITUDE\", \"LONGITUDE\")\n",
    "\n",
    "clustering_data"
   ]
  },
  {
   "cell_type": "code",
   "execution_count": 29,
   "id": "662d6f01-ef69-43d1-a078-055757e31a40",
   "metadata": {
    "tags": []
   },
   "outputs": [
    {
     "data": {
      "text/html": [
       "<table border=\"1\" class=\"dataframe\">\n",
       "    <thead>\n",
       "        <tr>\n",
       "            <th>FIRE_YEAR</th> <th>count</th>\n",
       "        </tr>\n",
       "    </thead>\n",
       "    <tbody>\n",
       "        <tr>\n",
       "            <td>2000     </td> <td>6977 </td>\n",
       "        </tr>\n",
       "        <tr>\n",
       "            <td>2001     </td> <td>8182 </td>\n",
       "        </tr>\n",
       "        <tr>\n",
       "            <td>2002     </td> <td>7133 </td>\n",
       "        </tr>\n",
       "        <tr>\n",
       "            <td>2003     </td> <td>7913 </td>\n",
       "        </tr>\n",
       "        <tr>\n",
       "            <td>2004     </td> <td>7418 </td>\n",
       "        </tr>\n",
       "        <tr>\n",
       "            <td>2005     </td> <td>6678 </td>\n",
       "        </tr>\n",
       "        <tr>\n",
       "            <td>2006     </td> <td>8271 </td>\n",
       "        </tr>\n",
       "        <tr>\n",
       "            <td>2007     </td> <td>10151</td>\n",
       "        </tr>\n",
       "        <tr>\n",
       "            <td>2008     </td> <td>7744 </td>\n",
       "        </tr>\n",
       "        <tr>\n",
       "            <td>2009     </td> <td>6940 </td>\n",
       "        </tr>\n",
       "        <tr>\n",
       "            <td>2010     </td> <td>5776 </td>\n",
       "        </tr>\n",
       "    </tbody>\n",
       "</table>"
      ],
      "text/plain": [
       "<IPython.core.display.HTML object>"
      ]
     },
     "metadata": {},
     "output_type": "display_data"
    }
   ],
   "source": [
    "data.where(\"STATE\", are.equal_to(\"CA\")).group(\"FIRE_YEAR\").show(11)"
   ]
  },
  {
   "cell_type": "code",
   "execution_count": 30,
   "id": "3551e25d-520a-4b58-8626-d60a2b80b194",
   "metadata": {
    "tags": []
   },
   "outputs": [
    {
     "data": {
      "text/html": [
       "<table border=\"1\" class=\"dataframe\">\n",
       "    <thead>\n",
       "        <tr>\n",
       "            <th>FIRE_YEAR</th> <th>AK</th> <th>AL</th> <th>AR</th> <th>AZ</th> <th>CA</th> <th>CO</th> <th>CT</th> <th>DC</th> <th>DE</th> <th>FL</th> <th>GA</th> <th>HI</th> <th>IA</th> <th>ID</th> <th>IL</th> <th>IN</th> <th>KS</th> <th>KY</th> <th>LA</th> <th>MA</th> <th>MD</th> <th>ME</th> <th>MI</th> <th>MN</th> <th>MO</th> <th>MS</th> <th>MT</th> <th>NC</th> <th>ND</th> <th>NE</th> <th>NH</th> <th>NJ</th> <th>NM</th> <th>NV</th> <th>NY</th> <th>OH</th> <th>OK</th> <th>OR</th> <th>PA</th> <th>PR</th> <th>RI</th> <th>SC</th> <th>SD</th> <th>TN</th> <th>TX</th> <th>UT</th> <th>VA</th> <th>VT</th> <th>WA</th> <th>WI</th> <th>WV</th> <th>WY</th>\n",
       "        </tr>\n",
       "    </thead>\n",
       "    <tbody>\n",
       "        <tr>\n",
       "            <td>2000     </td> <td>364 </td> <td>6264</td> <td>2363</td> <td>3859</td> <td>6977 </td> <td>1619</td> <td>126 </td> <td>0   </td> <td>1   </td> <td>6499</td> <td>10549</td> <td>13  </td> <td>19  </td> <td>1749</td> <td>29  </td> <td>92  </td> <td>48  </td> <td>1587</td> <td>4234</td> <td>3   </td> <td>14  </td> <td>346 </td> <td>115 </td> <td>2631</td> <td>673 </td> <td>7984</td> <td>2428</td> <td>4987</td> <td>627 </td> <td>114 </td> <td>87  </td> <td>972 </td> <td>2794</td> <td>977 </td> <td>1756</td> <td>28  </td> <td>1643</td> <td>1938</td> <td>14  </td> <td>0   </td> <td>0   </td> <td>4995</td> <td>2271</td> <td>2674</td> <td>2627 </td> <td>1857</td> <td>988 </td> <td>0   </td> <td>1226</td> <td>1578</td> <td>1106</td> <td>571 </td>\n",
       "        </tr>\n",
       "        <tr>\n",
       "            <td>2001     </td> <td>361 </td> <td>3309</td> <td>1266</td> <td>3186</td> <td>8182 </td> <td>1266</td> <td>207 </td> <td>1   </td> <td>1   </td> <td>4887</td> <td>9572 </td> <td>566 </td> <td>10  </td> <td>1683</td> <td>45  </td> <td>140 </td> <td>69  </td> <td>2061</td> <td>976 </td> <td>17  </td> <td>22  </td> <td>963 </td> <td>424 </td> <td>1327</td> <td>884 </td> <td>2888</td> <td>1603</td> <td>8143</td> <td>553 </td> <td>77  </td> <td>124 </td> <td>1571</td> <td>1701</td> <td>1118</td> <td>3262</td> <td>86  </td> <td>1290</td> <td>3368</td> <td>35  </td> <td>0   </td> <td>0   </td> <td>6225</td> <td>1338</td> <td>2521</td> <td>771  </td> <td>1775</td> <td>2101</td> <td>0   </td> <td>1158</td> <td>993 </td> <td>1789</td> <td>672 </td>\n",
       "        </tr>\n",
       "        <tr>\n",
       "            <td>2002     </td> <td>538 </td> <td>2926</td> <td>1001</td> <td>2918</td> <td>7133 </td> <td>1221</td> <td>107 </td> <td>1   </td> <td>39  </td> <td>3131</td> <td>7804 </td> <td>576 </td> <td>51  </td> <td>1511</td> <td>43  </td> <td>123 </td> <td>128 </td> <td>1050</td> <td>1481</td> <td>115 </td> <td>14  </td> <td>664 </td> <td>308 </td> <td>2039</td> <td>670 </td> <td>2832</td> <td>1597</td> <td>5590</td> <td>907 </td> <td>183 </td> <td>116 </td> <td>1419</td> <td>2077</td> <td>649 </td> <td>3512</td> <td>142 </td> <td>1535</td> <td>2759</td> <td>628 </td> <td>1   </td> <td>0   </td> <td>4683</td> <td>1962</td> <td>1485</td> <td>1229 </td> <td>1143</td> <td>1572</td> <td>6   </td> <td>1418</td> <td>949 </td> <td>1000</td> <td>670 </td>\n",
       "        </tr>\n",
       "        <tr>\n",
       "            <td>2003     </td> <td>478 </td> <td>1824</td> <td>1664</td> <td>2916</td> <td>7913 </td> <td>2422</td> <td>95  </td> <td>0   </td> <td>21  </td> <td>2150</td> <td>4567 </td> <td>941 </td> <td>50  </td> <td>1657</td> <td>48  </td> <td>155 </td> <td>113 </td> <td>956 </td> <td>94  </td> <td>75  </td> <td>5   </td> <td>624 </td> <td>750 </td> <td>3297</td> <td>340 </td> <td>1913</td> <td>2471</td> <td>2041</td> <td>835 </td> <td>161 </td> <td>56  </td> <td>674 </td> <td>1969</td> <td>664 </td> <td>4934</td> <td>63  </td> <td>1639</td> <td>2615</td> <td>407 </td> <td>3622</td> <td>0   </td> <td>1315</td> <td>1730</td> <td>31  </td> <td>1147 </td> <td>1422</td> <td>344 </td> <td>9   </td> <td>1433</td> <td>2253</td> <td>641 </td> <td>717 </td>\n",
       "        </tr>\n",
       "        <tr>\n",
       "            <td>2004     </td> <td>694 </td> <td>3054</td> <td>1364</td> <td>2843</td> <td>7418 </td> <td>1310</td> <td>87  </td> <td>0   </td> <td>27  </td> <td>3618</td> <td>8127 </td> <td>687 </td> <td>50  </td> <td>1138</td> <td>88  </td> <td>193 </td> <td>76  </td> <td>1238</td> <td>78  </td> <td>69  </td> <td>21  </td> <td>467 </td> <td>467 </td> <td>1989</td> <td>307 </td> <td>2812</td> <td>1503</td> <td>4343</td> <td>819 </td> <td>169 </td> <td>70  </td> <td>819 </td> <td>1229</td> <td>776 </td> <td>4062</td> <td>72  </td> <td>1688</td> <td>2270</td> <td>193 </td> <td>1885</td> <td>0   </td> <td>3058</td> <td>1377</td> <td>69  </td> <td>1040 </td> <td>1519</td> <td>301 </td> <td>16  </td> <td>1591</td> <td>1161</td> <td>618 </td> <td>409 </td>\n",
       "        </tr>\n",
       "        <tr>\n",
       "            <td>2005     </td> <td>619 </td> <td>2547</td> <td>2296</td> <td>3690</td> <td>6678 </td> <td>1875</td> <td>293 </td> <td>2   </td> <td>14  </td> <td>2395</td> <td>6049 </td> <td>1242</td> <td>34  </td> <td>1144</td> <td>62  </td> <td>173 </td> <td>175 </td> <td>1766</td> <td>3384</td> <td>30  </td> <td>417 </td> <td>472 </td> <td>641 </td> <td>1728</td> <td>413 </td> <td>3520</td> <td>1497</td> <td>4045</td> <td>903 </td> <td>177 </td> <td>88  </td> <td>996 </td> <td>1582</td> <td>749 </td> <td>7700</td> <td>100 </td> <td>2768</td> <td>1746</td> <td>783 </td> <td>4274</td> <td>18  </td> <td>2704</td> <td>1762</td> <td>2041</td> <td>6901 </td> <td>1362</td> <td>786 </td> <td>26  </td> <td>1089</td> <td>1565</td> <td>762 </td> <td>521 </td>\n",
       "        </tr>\n",
       "        <tr>\n",
       "            <td>2006     </td> <td>301 </td> <td>3947</td> <td>2571</td> <td>3319</td> <td>8271 </td> <td>1316</td> <td>372 </td> <td>3   </td> <td>0   </td> <td>5115</td> <td>8925 </td> <td>789 </td> <td>442 </td> <td>1888</td> <td>34  </td> <td>86  </td> <td>348 </td> <td>1884</td> <td>3131</td> <td>31  </td> <td>718 </td> <td>623 </td> <td>534 </td> <td>2507</td> <td>442 </td> <td>5533</td> <td>2460</td> <td>5059</td> <td>1061</td> <td>122 </td> <td>111 </td> <td>1352</td> <td>1996</td> <td>1049</td> <td>6631</td> <td>222 </td> <td>3265</td> <td>3184</td> <td>874 </td> <td>2529</td> <td>25  </td> <td>2855</td> <td>2646</td> <td>2183</td> <td>15022</td> <td>1926</td> <td>1268</td> <td>4   </td> <td>1577</td> <td>1658</td> <td>1026</td> <td>769 </td>\n",
       "        </tr>\n",
       "        <tr>\n",
       "            <td>2007     </td> <td>513 </td> <td>3833</td> <td>1301</td> <td>2443</td> <td>10151</td> <td>1070</td> <td>331 </td> <td>1   </td> <td>2   </td> <td>4589</td> <td>8717 </td> <td>964 </td> <td>143 </td> <td>1589</td> <td>99  </td> <td>127 </td> <td>196 </td> <td>2081</td> <td>63  </td> <td>34  </td> <td>598 </td> <td>481 </td> <td>516 </td> <td>1787</td> <td>523 </td> <td>2767</td> <td>1997</td> <td>7284</td> <td>865 </td> <td>822 </td> <td>95  </td> <td>1097</td> <td>1428</td> <td>698 </td> <td>6319</td> <td>259 </td> <td>1334</td> <td>2512</td> <td>514 </td> <td>3693</td> <td>21  </td> <td>3998</td> <td>1627</td> <td>3393</td> <td>5477 </td> <td>1548</td> <td>1446</td> <td>5   </td> <td>1304</td> <td>1487</td> <td>836 </td> <td>595 </td>\n",
       "        </tr>\n",
       "        <tr>\n",
       "            <td>2008     </td> <td>369 </td> <td>2012</td> <td>883 </td> <td>1898</td> <td>7744 </td> <td>1015</td> <td>366 </td> <td>1   </td> <td>0   </td> <td>3105</td> <td>5807 </td> <td>769 </td> <td>151 </td> <td>986 </td> <td>197 </td> <td>67  </td> <td>94  </td> <td>1563</td> <td>1438</td> <td>12  </td> <td>530 </td> <td>466 </td> <td>444 </td> <td>1165</td> <td>136 </td> <td>2016</td> <td>1532</td> <td>4382</td> <td>723 </td> <td>611 </td> <td>102 </td> <td>1152</td> <td>864 </td> <td>447 </td> <td>7156</td> <td>116 </td> <td>2165</td> <td>2668</td> <td>652 </td> <td>17  </td> <td>135 </td> <td>2744</td> <td>1190</td> <td>1429</td> <td>18067</td> <td>1062</td> <td>1287</td> <td>5   </td> <td>1490</td> <td>813 </td> <td>886 </td> <td>449 </td>\n",
       "        </tr>\n",
       "        <tr>\n",
       "            <td>2009     </td> <td>513 </td> <td>1372</td> <td>1076</td> <td>2333</td> <td>6940 </td> <td>952 </td> <td>257 </td> <td>1   </td> <td>0   </td> <td>3016</td> <td>4176 </td> <td>816 </td> <td>702 </td> <td>1198</td> <td>347 </td> <td>45  </td> <td>71  </td> <td>1419</td> <td>1542</td> <td>1   </td> <td>261 </td> <td>483 </td> <td>486 </td> <td>1233</td> <td>239 </td> <td>1966</td> <td>1662</td> <td>3319</td> <td>415 </td> <td>715 </td> <td>68  </td> <td>614 </td> <td>1448</td> <td>570 </td> <td>5764</td> <td>244 </td> <td>2049</td> <td>2304</td> <td>633 </td> <td>1690</td> <td>47  </td> <td>1757</td> <td>984 </td> <td>1477</td> <td>14142</td> <td>1157</td> <td>784 </td> <td>1   </td> <td>2000</td> <td>1578</td> <td>984 </td> <td>474 </td>\n",
       "        </tr>\n",
       "    </tbody>\n",
       "</table>\n",
       "<p>... (1 rows omitted)</p>"
      ],
      "text/plain": [
       "FIRE_YEAR | AK   | AL   | AR   | AZ   | CA    | CO   | CT   | DC   | DE   | FL   | GA    | HI   | IA   | ID   | IL   | IN   | KS   | KY   | LA   | MA   | MD   | ME   | MI   | MN   | MO   | MS   | MT   | NC   | ND   | NE   | NH   | NJ   | NM   | NV   | NY   | OH   | OK   | OR   | PA   | PR   | RI   | SC   | SD   | TN   | TX    | UT   | VA   | VT   | WA   | WI   | WV   | WY\n",
       "2000      | 364  | 6264 | 2363 | 3859 | 6977  | 1619 | 126  | 0    | 1    | 6499 | 10549 | 13   | 19   | 1749 | 29   | 92   | 48   | 1587 | 4234 | 3    | 14   | 346  | 115  | 2631 | 673  | 7984 | 2428 | 4987 | 627  | 114  | 87   | 972  | 2794 | 977  | 1756 | 28   | 1643 | 1938 | 14   | 0    | 0    | 4995 | 2271 | 2674 | 2627  | 1857 | 988  | 0    | 1226 | 1578 | 1106 | 571\n",
       "2001      | 361  | 3309 | 1266 | 3186 | 8182  | 1266 | 207  | 1    | 1    | 4887 | 9572  | 566  | 10   | 1683 | 45   | 140  | 69   | 2061 | 976  | 17   | 22   | 963  | 424  | 1327 | 884  | 2888 | 1603 | 8143 | 553  | 77   | 124  | 1571 | 1701 | 1118 | 3262 | 86   | 1290 | 3368 | 35   | 0    | 0    | 6225 | 1338 | 2521 | 771   | 1775 | 2101 | 0    | 1158 | 993  | 1789 | 672\n",
       "2002      | 538  | 2926 | 1001 | 2918 | 7133  | 1221 | 107  | 1    | 39   | 3131 | 7804  | 576  | 51   | 1511 | 43   | 123  | 128  | 1050 | 1481 | 115  | 14   | 664  | 308  | 2039 | 670  | 2832 | 1597 | 5590 | 907  | 183  | 116  | 1419 | 2077 | 649  | 3512 | 142  | 1535 | 2759 | 628  | 1    | 0    | 4683 | 1962 | 1485 | 1229  | 1143 | 1572 | 6    | 1418 | 949  | 1000 | 670\n",
       "2003      | 478  | 1824 | 1664 | 2916 | 7913  | 2422 | 95   | 0    | 21   | 2150 | 4567  | 941  | 50   | 1657 | 48   | 155  | 113  | 956  | 94   | 75   | 5    | 624  | 750  | 3297 | 340  | 1913 | 2471 | 2041 | 835  | 161  | 56   | 674  | 1969 | 664  | 4934 | 63   | 1639 | 2615 | 407  | 3622 | 0    | 1315 | 1730 | 31   | 1147  | 1422 | 344  | 9    | 1433 | 2253 | 641  | 717\n",
       "2004      | 694  | 3054 | 1364 | 2843 | 7418  | 1310 | 87   | 0    | 27   | 3618 | 8127  | 687  | 50   | 1138 | 88   | 193  | 76   | 1238 | 78   | 69   | 21   | 467  | 467  | 1989 | 307  | 2812 | 1503 | 4343 | 819  | 169  | 70   | 819  | 1229 | 776  | 4062 | 72   | 1688 | 2270 | 193  | 1885 | 0    | 3058 | 1377 | 69   | 1040  | 1519 | 301  | 16   | 1591 | 1161 | 618  | 409\n",
       "2005      | 619  | 2547 | 2296 | 3690 | 6678  | 1875 | 293  | 2    | 14   | 2395 | 6049  | 1242 | 34   | 1144 | 62   | 173  | 175  | 1766 | 3384 | 30   | 417  | 472  | 641  | 1728 | 413  | 3520 | 1497 | 4045 | 903  | 177  | 88   | 996  | 1582 | 749  | 7700 | 100  | 2768 | 1746 | 783  | 4274 | 18   | 2704 | 1762 | 2041 | 6901  | 1362 | 786  | 26   | 1089 | 1565 | 762  | 521\n",
       "2006      | 301  | 3947 | 2571 | 3319 | 8271  | 1316 | 372  | 3    | 0    | 5115 | 8925  | 789  | 442  | 1888 | 34   | 86   | 348  | 1884 | 3131 | 31   | 718  | 623  | 534  | 2507 | 442  | 5533 | 2460 | 5059 | 1061 | 122  | 111  | 1352 | 1996 | 1049 | 6631 | 222  | 3265 | 3184 | 874  | 2529 | 25   | 2855 | 2646 | 2183 | 15022 | 1926 | 1268 | 4    | 1577 | 1658 | 1026 | 769\n",
       "2007      | 513  | 3833 | 1301 | 2443 | 10151 | 1070 | 331  | 1    | 2    | 4589 | 8717  | 964  | 143  | 1589 | 99   | 127  | 196  | 2081 | 63   | 34   | 598  | 481  | 516  | 1787 | 523  | 2767 | 1997 | 7284 | 865  | 822  | 95   | 1097 | 1428 | 698  | 6319 | 259  | 1334 | 2512 | 514  | 3693 | 21   | 3998 | 1627 | 3393 | 5477  | 1548 | 1446 | 5    | 1304 | 1487 | 836  | 595\n",
       "2008      | 369  | 2012 | 883  | 1898 | 7744  | 1015 | 366  | 1    | 0    | 3105 | 5807  | 769  | 151  | 986  | 197  | 67   | 94   | 1563 | 1438 | 12   | 530  | 466  | 444  | 1165 | 136  | 2016 | 1532 | 4382 | 723  | 611  | 102  | 1152 | 864  | 447  | 7156 | 116  | 2165 | 2668 | 652  | 17   | 135  | 2744 | 1190 | 1429 | 18067 | 1062 | 1287 | 5    | 1490 | 813  | 886  | 449\n",
       "2009      | 513  | 1372 | 1076 | 2333 | 6940  | 952  | 257  | 1    | 0    | 3016 | 4176  | 816  | 702  | 1198 | 347  | 45   | 71   | 1419 | 1542 | 1    | 261  | 483  | 486  | 1233 | 239  | 1966 | 1662 | 3319 | 415  | 715  | 68   | 614  | 1448 | 570  | 5764 | 244  | 2049 | 2304 | 633  | 1690 | 47   | 1757 | 984  | 1477 | 14142 | 1157 | 784  | 1    | 2000 | 1578 | 984  | 474\n",
       "... (1 rows omitted)"
      ]
     },
     "execution_count": 30,
     "metadata": {},
     "output_type": "execute_result"
    }
   ],
   "source": [
    "data.pivot(\"STATE\", \"FIRE_YEAR\")"
   ]
  },
  {
   "cell_type": "code",
   "execution_count": 39,
   "id": "bc8a4bc2-b13f-48be-9e0e-c23aa18f4a65",
   "metadata": {
    "tags": []
   },
   "outputs": [
    {
     "data": {
      "text/html": [
       "<table border=\"1\" class=\"dataframe\">\n",
       "    <thead>\n",
       "        <tr>\n",
       "            <th>OBJECTID</th> <th>FOD_ID</th> <th>FPA_ID</th> <th>SOURCE_SYSTEM_TYPE</th> <th>SOURCE_SYSTEM</th> <th>NWCG_REPORTING_AGENCY</th> <th>NWCG_REPORTING_UNIT_ID</th> <th>NWCG_REPORTING_UNIT_NAME</th> <th>SOURCE_REPORTING_UNIT</th> <th>SOURCE_REPORTING_UNIT_NAME</th> <th>LOCAL_INCIDENT_ID</th> <th>FIRE_NAME</th> <th>FIRE_YEAR</th> <th>DISCOVERY_DATE</th> <th>DISCOVERY_DOY</th> <th>STAT_CAUSE_CODE</th> <th>STAT_CAUSE_DESCR</th> <th>FIRE_SIZE</th> <th>FIRE_SIZE_CLASS</th> <th>LATITUDE</th> <th>LONGITUDE</th> <th>OWNER_CODE</th> <th>OWNER_DESCR</th> <th>STATE</th> <th>COUNTY</th> <th>FIPS_CODE</th> <th>FIPS_NAME</th> <th>Shape</th>\n",
       "        </tr>\n",
       "    </thead>\n",
       "    <tbody>\n",
       "        <tr>\n",
       "            <td>1067488 </td> <td>1302561</td> <td>CDF_2010_56_2229_001566      </td> <td>NONFED            </td> <td>ST-CACDF     </td> <td>ST/C&L               </td> <td>USCABEU               </td> <td>San Benito-Monterey Unit</td> <td>CABEU                </td> <td>CDF - San Benito-Monterey Unit</td> <td>1566             </td> <td>25                       </td> <td>2010     </td> <td>2.45534e+06   </td> <td>139          </td> <td>2              </td> <td>Equipment Use   </td> <td>70       </td> <td>C              </td> <td>36.7669 </td> <td>-121.303 </td> <td>14        </td> <td>MISSING/NOT SPECIFIED</td> <td>CA   </td> <td>nan   </td> <td>nan      </td> <td>nan      </td> <td>nan  </td>\n",
       "        </tr>\n",
       "        <tr>\n",
       "            <td>1067489 </td> <td>1302566</td> <td>CDF_2010_56_2229_001806      </td> <td>NONFED            </td> <td>ST-CACDF     </td> <td>ST/C&L               </td> <td>USCABEU               </td> <td>San Benito-Monterey Unit</td> <td>CABEU                </td> <td>CDF - San Benito-Monterey Unit</td> <td>1806             </td> <td>BOLADO                   </td> <td>2010     </td> <td>2.45536e+06   </td> <td>159          </td> <td>9              </td> <td>Miscellaneous   </td> <td>0.5      </td> <td>B              </td> <td>36.7769 </td> <td>-121.311 </td> <td>14        </td> <td>MISSING/NOT SPECIFIED</td> <td>CA   </td> <td>nan   </td> <td>nan      </td> <td>nan      </td> <td>nan  </td>\n",
       "        </tr>\n",
       "        <tr>\n",
       "            <td>1067490 </td> <td>1302568</td> <td>CDF_2010_56_2229_001857      </td> <td>NONFED            </td> <td>ST-CACDF     </td> <td>ST/C&L               </td> <td>USCABEU               </td> <td>San Benito-Monterey Unit</td> <td>CABEU                </td> <td>CDF - San Benito-Monterey Unit</td> <td>1857             </td> <td>SANTA ANA RD  HOLLISTER  </td> <td>2010     </td> <td>2.45536e+06   </td> <td>163          </td> <td>9              </td> <td>Miscellaneous   </td> <td>0.1      </td> <td>A              </td> <td>36.8561 </td> <td>-121.381 </td> <td>14        </td> <td>MISSING/NOT SPECIFIED</td> <td>CA   </td> <td>nan   </td> <td>nan      </td> <td>nan      </td> <td>nan  </td>\n",
       "        </tr>\n",
       "        <tr>\n",
       "            <td>1067491 </td> <td>1302570</td> <td>CDF_2010_56_2229_001897      </td> <td>NONFED            </td> <td>ST-CACDF     </td> <td>ST/C&L               </td> <td>USCABEU               </td> <td>San Benito-Monterey Unit</td> <td>CABEU                </td> <td>CDF - San Benito-Monterey Unit</td> <td>1897             </td> <td>HOSPITAL                 </td> <td>2010     </td> <td>2.45536e+06   </td> <td>165          </td> <td>9              </td> <td>Miscellaneous   </td> <td>0.1      </td> <td>A              </td> <td>36.8181 </td> <td>-121.391 </td> <td>14        </td> <td>MISSING/NOT SPECIFIED</td> <td>CA   </td> <td>nan   </td> <td>nan      </td> <td>nan      </td> <td>nan  </td>\n",
       "        </tr>\n",
       "        <tr>\n",
       "            <td>1067492 </td> <td>1302576</td> <td>CDF_2010_56_2229_002326      </td> <td>NONFED            </td> <td>ST-CACDF     </td> <td>ST/C&L               </td> <td>USCABEU               </td> <td>San Benito-Monterey Unit</td> <td>CABEU                </td> <td>CDF - San Benito-Monterey Unit</td> <td>2326             </td> <td>HWY 101  S/ HWY 129      </td> <td>2010     </td> <td>2.45539e+06   </td> <td>192          </td> <td>9              </td> <td>Miscellaneous   </td> <td>1        </td> <td>B              </td> <td>36.8831 </td> <td>-121.562 </td> <td>14        </td> <td>MISSING/NOT SPECIFIED</td> <td>CA   </td> <td>nan   </td> <td>nan      </td> <td>nan      </td> <td>nan  </td>\n",
       "        </tr>\n",
       "        <tr>\n",
       "            <td>1067493 </td> <td>1302585</td> <td>CDF_2010_56_2229_002553      </td> <td>NONFED            </td> <td>ST-CACDF     </td> <td>ST/C&L               </td> <td>USCABEU               </td> <td>San Benito-Monterey Unit</td> <td>CABEU                </td> <td>CDF - San Benito-Monterey Unit</td> <td>2553             </td> <td>FAIRVIEW                 </td> <td>2010     </td> <td>2.45541e+06   </td> <td>210          </td> <td>5              </td> <td>Debris Burning  </td> <td>0.3      </td> <td>B              </td> <td>36.9361 </td> <td>-121.388 </td> <td>14        </td> <td>MISSING/NOT SPECIFIED</td> <td>CA   </td> <td>nan   </td> <td>nan      </td> <td>nan      </td> <td>nan  </td>\n",
       "        </tr>\n",
       "        <tr>\n",
       "            <td>1067494 </td> <td>1302594</td> <td>CDF_2010_56_2229_003120      </td> <td>NONFED            </td> <td>ST-CACDF     </td> <td>ST/C&L               </td> <td>USCABEU               </td> <td>San Benito-Monterey Unit</td> <td>CABEU                </td> <td>CDF - San Benito-Monterey Unit</td> <td>3120             </td> <td>FREEMONT                 </td> <td>2010     </td> <td>2.45545e+06   </td> <td>254          </td> <td>2              </td> <td>Equipment Use   </td> <td>0.5      </td> <td>B              </td> <td>36.7581 </td> <td>-121.503 </td> <td>14        </td> <td>MISSING/NOT SPECIFIED</td> <td>CA   </td> <td>nan   </td> <td>nan      </td> <td>nan      </td> <td>nan  </td>\n",
       "        </tr>\n",
       "        <tr>\n",
       "            <td>1067505 </td> <td>1302629</td> <td>CDF_2010_56_2229_000812      </td> <td>NONFED            </td> <td>ST-CACDF     </td> <td>ST/C&L               </td> <td>USCABEU               </td> <td>San Benito-Monterey Unit</td> <td>CABEU                </td> <td>CDF - San Benito-Monterey Unit</td> <td>812              </td> <td>HOSPITAL                 </td> <td>2010     </td> <td>2.45527e+06   </td> <td>75           </td> <td>9              </td> <td>Miscellaneous   </td> <td>0.1      </td> <td>A              </td> <td>36.8181 </td> <td>-121.391 </td> <td>14        </td> <td>MISSING/NOT SPECIFIED</td> <td>CA   </td> <td>nan   </td> <td>nan      </td> <td>nan      </td> <td>nan  </td>\n",
       "        </tr>\n",
       "        <tr>\n",
       "            <td>1067506 </td> <td>1302634</td> <td>CDF_2010_56_2229_001381      </td> <td>NONFED            </td> <td>ST-CACDF     </td> <td>ST/C&L               </td> <td>USCABEU               </td> <td>San Benito-Monterey Unit</td> <td>CABEU                </td> <td>CDF - San Benito-Monterey Unit</td> <td>1381             </td> <td>HWY 101  S/ HWY 129      </td> <td>2010     </td> <td>2.45532e+06   </td> <td>121          </td> <td>9              </td> <td>Miscellaneous   </td> <td>1        </td> <td>B              </td> <td>36.8831 </td> <td>-121.562 </td> <td>14        </td> <td>MISSING/NOT SPECIFIED</td> <td>CA   </td> <td>nan   </td> <td>nan      </td> <td>nan      </td> <td>nan  </td>\n",
       "        </tr>\n",
       "        <tr>\n",
       "            <td>1067507 </td> <td>1302640</td> <td>CDF_2010_56_2229_002097      </td> <td>NONFED            </td> <td>ST-CACDF     </td> <td>ST/C&L               </td> <td>USCABEU               </td> <td>San Benito-Monterey Unit</td> <td>CABEU                </td> <td>CDF - San Benito-Monterey Unit</td> <td>2097             </td> <td>SAN ARDO                 </td> <td>2010     </td> <td>2.45537e+06   </td> <td>174          </td> <td>9              </td> <td>Miscellaneous   </td> <td>16       </td> <td>C              </td> <td>35.9531 </td> <td>-120.867 </td> <td>14        </td> <td>MISSING/NOT SPECIFIED</td> <td>CA   </td> <td>nan   </td> <td>nan      </td> <td>nan      </td> <td>nan  </td>\n",
       "        </tr>\n",
       "    </tbody>\n",
       "</table>\n",
       "<p>... (83173 rows omitted)</p>"
      ],
      "text/plain": [
       "OBJECTID | FOD_ID  | FPA_ID                        | SOURCE_SYSTEM_TYPE | SOURCE_SYSTEM | NWCG_REPORTING_AGENCY | NWCG_REPORTING_UNIT_ID | NWCG_REPORTING_UNIT_NAME | SOURCE_REPORTING_UNIT | SOURCE_REPORTING_UNIT_NAME     | LOCAL_INCIDENT_ID | FIRE_NAME                 | FIRE_YEAR | DISCOVERY_DATE | DISCOVERY_DOY | STAT_CAUSE_CODE | STAT_CAUSE_DESCR | FIRE_SIZE | FIRE_SIZE_CLASS | LATITUDE | LONGITUDE | OWNER_CODE | OWNER_DESCR           | STATE | COUNTY | FIPS_CODE | FIPS_NAME | Shape\n",
       "1067488  | 1302561 | CDF_2010_56_2229_001566       | NONFED             | ST-CACDF      | ST/C&L                | USCABEU                | San Benito-Monterey Unit | CABEU                 | CDF - San Benito-Monterey Unit | 1566              | 25                        | 2010      | 2.45534e+06    | 139           | 2               | Equipment Use    | 70        | C               | 36.7669  | -121.303  | 14         | MISSING/NOT SPECIFIED | CA    | nan    | nan       | nan       | nan\n",
       "1067489  | 1302566 | CDF_2010_56_2229_001806       | NONFED             | ST-CACDF      | ST/C&L                | USCABEU                | San Benito-Monterey Unit | CABEU                 | CDF - San Benito-Monterey Unit | 1806              | BOLADO                    | 2010      | 2.45536e+06    | 159           | 9               | Miscellaneous    | 0.5       | B               | 36.7769  | -121.311  | 14         | MISSING/NOT SPECIFIED | CA    | nan    | nan       | nan       | nan\n",
       "1067490  | 1302568 | CDF_2010_56_2229_001857       | NONFED             | ST-CACDF      | ST/C&L                | USCABEU                | San Benito-Monterey Unit | CABEU                 | CDF - San Benito-Monterey Unit | 1857              | SANTA ANA RD  HOLLISTER   | 2010      | 2.45536e+06    | 163           | 9               | Miscellaneous    | 0.1       | A               | 36.8561  | -121.381  | 14         | MISSING/NOT SPECIFIED | CA    | nan    | nan       | nan       | nan\n",
       "1067491  | 1302570 | CDF_2010_56_2229_001897       | NONFED             | ST-CACDF      | ST/C&L                | USCABEU                | San Benito-Monterey Unit | CABEU                 | CDF - San Benito-Monterey Unit | 1897              | HOSPITAL                  | 2010      | 2.45536e+06    | 165           | 9               | Miscellaneous    | 0.1       | A               | 36.8181  | -121.391  | 14         | MISSING/NOT SPECIFIED | CA    | nan    | nan       | nan       | nan\n",
       "1067492  | 1302576 | CDF_2010_56_2229_002326       | NONFED             | ST-CACDF      | ST/C&L                | USCABEU                | San Benito-Monterey Unit | CABEU                 | CDF - San Benito-Monterey Unit | 2326              | HWY 101  S/ HWY 129       | 2010      | 2.45539e+06    | 192           | 9               | Miscellaneous    | 1         | B               | 36.8831  | -121.562  | 14         | MISSING/NOT SPECIFIED | CA    | nan    | nan       | nan       | nan\n",
       "1067493  | 1302585 | CDF_2010_56_2229_002553       | NONFED             | ST-CACDF      | ST/C&L                | USCABEU                | San Benito-Monterey Unit | CABEU                 | CDF - San Benito-Monterey Unit | 2553              | FAIRVIEW                  | 2010      | 2.45541e+06    | 210           | 5               | Debris Burning   | 0.3       | B               | 36.9361  | -121.388  | 14         | MISSING/NOT SPECIFIED | CA    | nan    | nan       | nan       | nan\n",
       "1067494  | 1302594 | CDF_2010_56_2229_003120       | NONFED             | ST-CACDF      | ST/C&L                | USCABEU                | San Benito-Monterey Unit | CABEU                 | CDF - San Benito-Monterey Unit | 3120              | FREEMONT                  | 2010      | 2.45545e+06    | 254           | 2               | Equipment Use    | 0.5       | B               | 36.7581  | -121.503  | 14         | MISSING/NOT SPECIFIED | CA    | nan    | nan       | nan       | nan\n",
       "1067505  | 1302629 | CDF_2010_56_2229_000812       | NONFED             | ST-CACDF      | ST/C&L                | USCABEU                | San Benito-Monterey Unit | CABEU                 | CDF - San Benito-Monterey Unit | 812               | HOSPITAL                  | 2010      | 2.45527e+06    | 75            | 9               | Miscellaneous    | 0.1       | A               | 36.8181  | -121.391  | 14         | MISSING/NOT SPECIFIED | CA    | nan    | nan       | nan       | nan\n",
       "1067506  | 1302634 | CDF_2010_56_2229_001381       | NONFED             | ST-CACDF      | ST/C&L                | USCABEU                | San Benito-Monterey Unit | CABEU                 | CDF - San Benito-Monterey Unit | 1381              | HWY 101  S/ HWY 129       | 2010      | 2.45532e+06    | 121           | 9               | Miscellaneous    | 1         | B               | 36.8831  | -121.562  | 14         | MISSING/NOT SPECIFIED | CA    | nan    | nan       | nan       | nan\n",
       "1067507  | 1302640 | CDF_2010_56_2229_002097       | NONFED             | ST-CACDF      | ST/C&L                | USCABEU                | San Benito-Monterey Unit | CABEU                 | CDF - San Benito-Monterey Unit | 2097              | SAN ARDO                  | 2010      | 2.45537e+06    | 174           | 9               | Miscellaneous    | 16        | C               | 35.9531  | -120.867  | 14         | MISSING/NOT SPECIFIED | CA    | nan    | nan       | nan       | nan\n",
       "... (83173 rows omitted)"
      ]
     },
     "execution_count": 39,
     "metadata": {},
     "output_type": "execute_result"
    }
   ],
   "source": [
    "data.where(\"STATE\", are.equal_to(\"CA\"))"
   ]
  },
  {
   "cell_type": "code",
   "execution_count": 35,
   "id": "c9869798-0e0f-4343-9ae9-0b2a67460d8b",
   "metadata": {
    "tags": []
   },
   "outputs": [
    {
     "data": {
      "text/html": [
       "<table border=\"1\" class=\"dataframe\">\n",
       "    <thead>\n",
       "        <tr>\n",
       "            <th>FIRE_SIZE_CLASS</th> <th>count</th>\n",
       "        </tr>\n",
       "    </thead>\n",
       "    <tbody>\n",
       "        <tr>\n",
       "            <td>A              </td> <td>327408</td>\n",
       "        </tr>\n",
       "        <tr>\n",
       "            <td>B              </td> <td>472457</td>\n",
       "        </tr>\n",
       "        <tr>\n",
       "            <td>C              </td> <td>110162</td>\n",
       "        </tr>\n",
       "        <tr>\n",
       "            <td>D              </td> <td>14741 </td>\n",
       "        </tr>\n",
       "        <tr>\n",
       "            <td>E              </td> <td>7309  </td>\n",
       "        </tr>\n",
       "        <tr>\n",
       "            <td>F              </td> <td>3998  </td>\n",
       "        </tr>\n",
       "        <tr>\n",
       "            <td>G              </td> <td>1897  </td>\n",
       "        </tr>\n",
       "    </tbody>\n",
       "</table>"
      ],
      "text/plain": [
       "FIRE_SIZE_CLASS | count\n",
       "A               | 327408\n",
       "B               | 472457\n",
       "C               | 110162\n",
       "D               | 14741\n",
       "E               | 7309\n",
       "F               | 3998\n",
       "G               | 1897"
      ]
     },
     "execution_count": 35,
     "metadata": {},
     "output_type": "execute_result"
    }
   ],
   "source": [
    "data.group(\"FIRE_SIZE_CLASS\")"
   ]
  },
  {
   "cell_type": "code",
   "execution_count": 36,
   "id": "d736c941-d5f3-4044-bc42-1b9e55257509",
   "metadata": {
    "tags": []
   },
   "outputs": [
    {
     "data": {
      "text/html": [
       "<table border=\"1\" class=\"dataframe\">\n",
       "    <thead>\n",
       "        <tr>\n",
       "            <th>FIRE_SIZE_CLASS</th> <th>count</th>\n",
       "        </tr>\n",
       "    </thead>\n",
       "    <tbody>\n",
       "        <tr>\n",
       "            <td>A              </td> <td>41485</td>\n",
       "        </tr>\n",
       "        <tr>\n",
       "            <td>B              </td> <td>35399</td>\n",
       "        </tr>\n",
       "        <tr>\n",
       "            <td>C              </td> <td>4305 </td>\n",
       "        </tr>\n",
       "        <tr>\n",
       "            <td>D              </td> <td>905  </td>\n",
       "        </tr>\n",
       "        <tr>\n",
       "            <td>E              </td> <td>530  </td>\n",
       "        </tr>\n",
       "        <tr>\n",
       "            <td>F              </td> <td>357  </td>\n",
       "        </tr>\n",
       "        <tr>\n",
       "            <td>G              </td> <td>202  </td>\n",
       "        </tr>\n",
       "    </tbody>\n",
       "</table>"
      ],
      "text/plain": [
       "FIRE_SIZE_CLASS | count\n",
       "A               | 41485\n",
       "B               | 35399\n",
       "C               | 4305\n",
       "D               | 905\n",
       "E               | 530\n",
       "F               | 357\n",
       "G               | 202"
      ]
     },
     "execution_count": 36,
     "metadata": {},
     "output_type": "execute_result"
    }
   ],
   "source": [
    "data.where(\"STATE\", are.equal_to(\"CA\")).group(\"FIRE_SIZE_CLASS\")"
   ]
  },
  {
   "cell_type": "code",
   "execution_count": 38,
   "id": "61f7582c-9ea8-4f9e-aa89-64c31036cd01",
   "metadata": {
    "tags": []
   },
   "outputs": [
    {
     "data": {
      "text/html": [
       "<table border=\"1\" class=\"dataframe\">\n",
       "    <thead>\n",
       "        <tr>\n",
       "            <th>FIRE_YEAR</th> <th>A</th> <th>B</th> <th>C</th> <th>D</th> <th>E</th> <th>F</th> <th>G</th>\n",
       "        </tr>\n",
       "    </thead>\n",
       "    <tbody>\n",
       "        <tr>\n",
       "            <td>2000     </td> <td>3852</td> <td>2705</td> <td>300 </td> <td>61  </td> <td>36  </td> <td>14  </td> <td>9   </td>\n",
       "        </tr>\n",
       "        <tr>\n",
       "            <td>2001     </td> <td>4542</td> <td>3072</td> <td>409 </td> <td>74  </td> <td>47  </td> <td>24  </td> <td>14  </td>\n",
       "        </tr>\n",
       "        <tr>\n",
       "            <td>2002     </td> <td>3759</td> <td>2769</td> <td>416 </td> <td>95  </td> <td>46  </td> <td>32  </td> <td>16  </td>\n",
       "        </tr>\n",
       "        <tr>\n",
       "            <td>2003     </td> <td>4250</td> <td>3004</td> <td>427 </td> <td>113 </td> <td>56  </td> <td>38  </td> <td>25  </td>\n",
       "        </tr>\n",
       "        <tr>\n",
       "            <td>2004     </td> <td>4016</td> <td>2810</td> <td>430 </td> <td>77  </td> <td>44  </td> <td>25  </td> <td>16  </td>\n",
       "        </tr>\n",
       "        <tr>\n",
       "            <td>2005     </td> <td>3351</td> <td>2700</td> <td>446 </td> <td>93  </td> <td>47  </td> <td>32  </td> <td>9   </td>\n",
       "        </tr>\n",
       "        <tr>\n",
       "            <td>2006     </td> <td>4134</td> <td>3418</td> <td>473 </td> <td>104 </td> <td>75  </td> <td>42  </td> <td>25  </td>\n",
       "        </tr>\n",
       "        <tr>\n",
       "            <td>2007     </td> <td>4857</td> <td>4662</td> <td>455 </td> <td>80  </td> <td>50  </td> <td>29  </td> <td>18  </td>\n",
       "        </tr>\n",
       "        <tr>\n",
       "            <td>2008     </td> <td>2676</td> <td>4361</td> <td>411 </td> <td>95  </td> <td>74  </td> <td>75  </td> <td>52  </td>\n",
       "        </tr>\n",
       "        <tr>\n",
       "            <td>2009     </td> <td>3284</td> <td>3250</td> <td>279 </td> <td>55  </td> <td>29  </td> <td>30  </td> <td>13  </td>\n",
       "        </tr>\n",
       "        <tr>\n",
       "            <td>2010     </td> <td>2764</td> <td>2648</td> <td>259 </td> <td>58  </td> <td>26  </td> <td>16  </td> <td>5   </td>\n",
       "        </tr>\n",
       "    </tbody>\n",
       "</table>"
      ],
      "text/plain": [
       "<IPython.core.display.HTML object>"
      ]
     },
     "metadata": {},
     "output_type": "display_data"
    }
   ],
   "source": [
    "data.where(\"STATE\", are.equal_to(\"CA\")).pivot(\"FIRE_SIZE_CLASS\", \"FIRE_YEAR\").show(11)"
   ]
  },
  {
   "cell_type": "code",
   "execution_count": 48,
   "id": "0f963173-1cd3-4071-aab3-ac95bb5933b8",
   "metadata": {
    "tags": []
   },
   "outputs": [],
   "source": [
    "data.where(\"STATE\", are.equal_to(\"CA\")).group(\"STAT_CAUSE_DESCR\").to_csv(\"ca_fire_causes\")"
   ]
  },
  {
   "cell_type": "code",
   "execution_count": 46,
   "id": "3195d366-16b9-49b4-af95-5c5e7854b455",
   "metadata": {
    "tags": []
   },
   "outputs": [
    {
     "data": {
      "text/plain": [
       "-124.39832800000001"
      ]
     },
     "execution_count": 46,
     "metadata": {},
     "output_type": "execute_result"
    }
   ],
   "source": [
    "min(data.where(\"STATE\", are.equal_to(\"CA\")).column(\"LONGITUDE\"))"
   ]
  },
  {
   "cell_type": "code",
   "execution_count": 51,
   "id": "241ce9be-5e10-4f72-9ba0-d5e7fa366856",
   "metadata": {
    "tags": []
   },
   "outputs": [
    {
     "data": {
      "text/html": [
       "<table border=\"1\" class=\"dataframe\">\n",
       "    <thead>\n",
       "        <tr>\n",
       "            <th>FIRE_YEAR</th> <th>Arson</th> <th>Campfire</th> <th>Children</th> <th>Debris Burning</th> <th>Equipment Use</th> <th>Fireworks</th> <th>Lightning</th> <th>Miscellaneous</th> <th>Missing/Undefined</th> <th>Powerline</th> <th>Railroad</th> <th>Smoking</th> <th>Structure</th>\n",
       "        </tr>\n",
       "    </thead>\n",
       "    <tbody>\n",
       "        <tr>\n",
       "            <td>2000     </td> <td>15   </td> <td>6       </td> <td>1       </td> <td>6             </td> <td>38           </td> <td>0        </td> <td>9        </td> <td>35           </td> <td>5                </td> <td>1        </td> <td>2       </td> <td>2      </td> <td>0        </td>\n",
       "        </tr>\n",
       "        <tr>\n",
       "            <td>2001     </td> <td>16   </td> <td>8       </td> <td>2       </td> <td>7             </td> <td>35           </td> <td>1        </td> <td>31       </td> <td>49           </td> <td>5                </td> <td>2        </td> <td>2       </td> <td>1      </td> <td>0        </td>\n",
       "        </tr>\n",
       "        <tr>\n",
       "            <td>2002     </td> <td>18   </td> <td>8       </td> <td>2       </td> <td>15            </td> <td>53           </td> <td>0        </td> <td>15       </td> <td>53           </td> <td>18               </td> <td>2        </td> <td>0       </td> <td>5      </td> <td>0        </td>\n",
       "        </tr>\n",
       "        <tr>\n",
       "            <td>2003     </td> <td>19   </td> <td>7       </td> <td>2       </td> <td>9             </td> <td>66           </td> <td>0        </td> <td>69       </td> <td>43           </td> <td>12               </td> <td>2        </td> <td>1       </td> <td>2      </td> <td>0        </td>\n",
       "        </tr>\n",
       "        <tr>\n",
       "            <td>2004     </td> <td>15   </td> <td>4       </td> <td>0       </td> <td>12            </td> <td>45           </td> <td>0        </td> <td>17       </td> <td>49           </td> <td>13               </td> <td>2        </td> <td>1       </td> <td>2      </td> <td>2        </td>\n",
       "        </tr>\n",
       "        <tr>\n",
       "            <td>2005     </td> <td>10   </td> <td>5       </td> <td>0       </td> <td>8             </td> <td>54           </td> <td>3        </td> <td>29       </td> <td>53           </td> <td>15               </td> <td>0        </td> <td>1       </td> <td>1      </td> <td>2        </td>\n",
       "        </tr>\n",
       "        <tr>\n",
       "            <td>2006     </td> <td>15   </td> <td>9       </td> <td>2       </td> <td>5             </td> <td>62           </td> <td>0        </td> <td>79       </td> <td>64           </td> <td>8                </td> <td>0        </td> <td>0       </td> <td>2      </td> <td>0        </td>\n",
       "        </tr>\n",
       "        <tr>\n",
       "            <td>2007     </td> <td>16   </td> <td>11      </td> <td>1       </td> <td>5             </td> <td>24           </td> <td>0        </td> <td>35       </td> <td>55           </td> <td>27               </td> <td>1        </td> <td>1       </td> <td>1      </td> <td>0        </td>\n",
       "        </tr>\n",
       "        <tr>\n",
       "            <td>2008     </td> <td>14   </td> <td>5       </td> <td>1       </td> <td>8             </td> <td>21           </td> <td>0        </td> <td>152      </td> <td>78           </td> <td>12               </td> <td>2        </td> <td>1       </td> <td>1      </td> <td>1        </td>\n",
       "        </tr>\n",
       "        <tr>\n",
       "            <td>2009     </td> <td>9    </td> <td>4       </td> <td>3       </td> <td>5             </td> <td>18           </td> <td>1        </td> <td>25       </td> <td>37           </td> <td>22               </td> <td>2        </td> <td>0       </td> <td>1      </td> <td>0        </td>\n",
       "        </tr>\n",
       "    </tbody>\n",
       "</table>\n",
       "<p>... (1 rows omitted)</p>"
      ],
      "text/plain": [
       "FIRE_YEAR | Arson | Campfire | Children | Debris Burning | Equipment Use | Fireworks | Lightning | Miscellaneous | Missing/Undefined | Powerline | Railroad | Smoking | Structure\n",
       "2000      | 15    | 6        | 1        | 6              | 38            | 0         | 9         | 35            | 5                 | 1         | 2        | 2       | 0\n",
       "2001      | 16    | 8        | 2        | 7              | 35            | 1         | 31        | 49            | 5                 | 2         | 2        | 1       | 0\n",
       "2002      | 18    | 8        | 2        | 15             | 53            | 0         | 15        | 53            | 18                | 2         | 0        | 5       | 0\n",
       "2003      | 19    | 7        | 2        | 9              | 66            | 0         | 69        | 43            | 12                | 2         | 1        | 2       | 0\n",
       "2004      | 15    | 4        | 0        | 12             | 45            | 0         | 17        | 49            | 13                | 2         | 1        | 2       | 2\n",
       "2005      | 10    | 5        | 0        | 8              | 54            | 3         | 29        | 53            | 15                | 0         | 1        | 1       | 2\n",
       "2006      | 15    | 9        | 2        | 5              | 62            | 0         | 79        | 64            | 8                 | 0         | 0        | 2       | 0\n",
       "2007      | 16    | 11       | 1        | 5              | 24            | 0         | 35        | 55            | 27                | 1         | 1        | 1       | 0\n",
       "2008      | 14    | 5        | 1        | 8              | 21            | 0         | 152       | 78            | 12                | 2         | 1        | 1       | 1\n",
       "2009      | 9     | 4        | 3        | 5              | 18            | 1         | 25        | 37            | 22                | 2         | 0        | 1       | 0\n",
       "... (1 rows omitted)"
      ]
     },
     "execution_count": 51,
     "metadata": {},
     "output_type": "execute_result"
    }
   ],
   "source": [
    "data.where(\"STATE\", are.equal_to(\"CA\")).where(\"FIRE_SIZE_CLASS\", are.above(\"C\")).pivot(\"STAT_CAUSE_DESCR\", \"FIRE_YEAR\")"
   ]
  },
  {
   "cell_type": "code",
   "execution_count": 55,
   "id": "d44ad103-c406-4b87-86ee-ea598f9fc9a3",
   "metadata": {
    "tags": []
   },
   "outputs": [
    {
     "name": "stderr",
     "output_type": "stream",
     "text": [
      "\n",
      "KeyboardInterrupt\n",
      "\n"
     ]
    }
   ],
   "source": [
    "aqi = Table.read_table(\"US_AQI.csv\")"
   ]
  },
  {
   "cell_type": "code",
   "execution_count": 57,
   "id": "b6dcd4f1-8ae5-4b04-9265-abcaf099fca8",
   "metadata": {
    "tags": []
   },
   "outputs": [],
   "source": [
    "geo = Table.read_table(\"cal_cities_lat_long.csv\")"
   ]
  },
  {
   "cell_type": "code",
   "execution_count": 58,
   "id": "a1062bc2-bccb-4b3c-897a-2f5a2073f427",
   "metadata": {
    "tags": []
   },
   "outputs": [
    {
     "data": {
      "text/html": [
       "<table border=\"1\" class=\"dataframe\">\n",
       "    <thead>\n",
       "        <tr>\n",
       "            <th>Unnamed: 0</th> <th>CBSA Code</th> <th>Date</th> <th>AQI</th> <th>Category</th> <th>Defining Parameter</th> <th>Number of Sites Reporting</th> <th>city_ascii</th> <th>state_id</th> <th>state_name</th> <th>lat</th> <th>lng</th> <th>population</th> <th>density</th> <th>timezone</th>\n",
       "        </tr>\n",
       "    </thead>\n",
       "    <tbody>\n",
       "        <tr>\n",
       "            <td>0         </td> <td>10140    </td> <td>2022-01-01</td> <td>21  </td> <td>Good    </td> <td>PM2.5             </td> <td>2                        </td> <td>Aberdeen  </td> <td>WA      </td> <td>Washington</td> <td>46.9757</td> <td>-123.809</td> <td>16571     </td> <td>588    </td> <td>America/Los_Angeles</td>\n",
       "        </tr>\n",
       "        <tr>\n",
       "            <td>1         </td> <td>10140    </td> <td>2022-01-02</td> <td>12  </td> <td>Good    </td> <td>PM2.5             </td> <td>2                        </td> <td>Aberdeen  </td> <td>WA      </td> <td>Washington</td> <td>46.9757</td> <td>-123.809</td> <td>16571     </td> <td>588    </td> <td>America/Los_Angeles</td>\n",
       "        </tr>\n",
       "        <tr>\n",
       "            <td>2         </td> <td>10140    </td> <td>2022-01-03</td> <td>18  </td> <td>Good    </td> <td>PM2.5             </td> <td>2                        </td> <td>Aberdeen  </td> <td>WA      </td> <td>Washington</td> <td>46.9757</td> <td>-123.809</td> <td>16571     </td> <td>588    </td> <td>America/Los_Angeles</td>\n",
       "        </tr>\n",
       "        <tr>\n",
       "            <td>3         </td> <td>10140    </td> <td>2022-01-04</td> <td>19  </td> <td>Good    </td> <td>PM2.5             </td> <td>2                        </td> <td>Aberdeen  </td> <td>WA      </td> <td>Washington</td> <td>46.9757</td> <td>-123.809</td> <td>16571     </td> <td>588    </td> <td>America/Los_Angeles</td>\n",
       "        </tr>\n",
       "        <tr>\n",
       "            <td>4         </td> <td>10140    </td> <td>2022-01-05</td> <td>17  </td> <td>Good    </td> <td>PM2.5             </td> <td>2                        </td> <td>Aberdeen  </td> <td>WA      </td> <td>Washington</td> <td>46.9757</td> <td>-123.809</td> <td>16571     </td> <td>588    </td> <td>America/Los_Angeles</td>\n",
       "        </tr>\n",
       "        <tr>\n",
       "            <td>5         </td> <td>10140    </td> <td>2022-01-06</td> <td>15  </td> <td>Good    </td> <td>PM2.5             </td> <td>2                        </td> <td>Aberdeen  </td> <td>WA      </td> <td>Washington</td> <td>46.9757</td> <td>-123.809</td> <td>16571     </td> <td>588    </td> <td>America/Los_Angeles</td>\n",
       "        </tr>\n",
       "        <tr>\n",
       "            <td>6         </td> <td>10140    </td> <td>2022-01-07</td> <td>20  </td> <td>Good    </td> <td>PM2.5             </td> <td>2                        </td> <td>Aberdeen  </td> <td>WA      </td> <td>Washington</td> <td>46.9757</td> <td>-123.809</td> <td>16571     </td> <td>588    </td> <td>America/Los_Angeles</td>\n",
       "        </tr>\n",
       "        <tr>\n",
       "            <td>7         </td> <td>10140    </td> <td>2022-01-08</td> <td>13  </td> <td>Good    </td> <td>PM2.5             </td> <td>2                        </td> <td>Aberdeen  </td> <td>WA      </td> <td>Washington</td> <td>46.9757</td> <td>-123.809</td> <td>16571     </td> <td>588    </td> <td>America/Los_Angeles</td>\n",
       "        </tr>\n",
       "        <tr>\n",
       "            <td>8         </td> <td>10140    </td> <td>2022-01-09</td> <td>16  </td> <td>Good    </td> <td>PM2.5             </td> <td>2                        </td> <td>Aberdeen  </td> <td>WA      </td> <td>Washington</td> <td>46.9757</td> <td>-123.809</td> <td>16571     </td> <td>588    </td> <td>America/Los_Angeles</td>\n",
       "        </tr>\n",
       "        <tr>\n",
       "            <td>9         </td> <td>10140    </td> <td>2022-01-10</td> <td>18  </td> <td>Good    </td> <td>PM2.5             </td> <td>2                        </td> <td>Aberdeen  </td> <td>WA      </td> <td>Washington</td> <td>46.9757</td> <td>-123.809</td> <td>16571     </td> <td>588    </td> <td>America/Los_Angeles</td>\n",
       "        </tr>\n",
       "    </tbody>\n",
       "</table>\n",
       "<p>... (5617315 rows omitted)</p>"
      ],
      "text/plain": [
       "Unnamed: 0 | CBSA Code | Date       | AQI  | Category | Defining Parameter | Number of Sites Reporting | city_ascii | state_id | state_name | lat     | lng      | population | density | timezone\n",
       "0          | 10140     | 2022-01-01 | 21   | Good     | PM2.5              | 2                         | Aberdeen   | WA       | Washington | 46.9757 | -123.809 | 16571      | 588     | America/Los_Angeles\n",
       "1          | 10140     | 2022-01-02 | 12   | Good     | PM2.5              | 2                         | Aberdeen   | WA       | Washington | 46.9757 | -123.809 | 16571      | 588     | America/Los_Angeles\n",
       "2          | 10140     | 2022-01-03 | 18   | Good     | PM2.5              | 2                         | Aberdeen   | WA       | Washington | 46.9757 | -123.809 | 16571      | 588     | America/Los_Angeles\n",
       "3          | 10140     | 2022-01-04 | 19   | Good     | PM2.5              | 2                         | Aberdeen   | WA       | Washington | 46.9757 | -123.809 | 16571      | 588     | America/Los_Angeles\n",
       "4          | 10140     | 2022-01-05 | 17   | Good     | PM2.5              | 2                         | Aberdeen   | WA       | Washington | 46.9757 | -123.809 | 16571      | 588     | America/Los_Angeles\n",
       "5          | 10140     | 2022-01-06 | 15   | Good     | PM2.5              | 2                         | Aberdeen   | WA       | Washington | 46.9757 | -123.809 | 16571      | 588     | America/Los_Angeles\n",
       "6          | 10140     | 2022-01-07 | 20   | Good     | PM2.5              | 2                         | Aberdeen   | WA       | Washington | 46.9757 | -123.809 | 16571      | 588     | America/Los_Angeles\n",
       "7          | 10140     | 2022-01-08 | 13   | Good     | PM2.5              | 2                         | Aberdeen   | WA       | Washington | 46.9757 | -123.809 | 16571      | 588     | America/Los_Angeles\n",
       "8          | 10140     | 2022-01-09 | 16   | Good     | PM2.5              | 2                         | Aberdeen   | WA       | Washington | 46.9757 | -123.809 | 16571      | 588     | America/Los_Angeles\n",
       "9          | 10140     | 2022-01-10 | 18   | Good     | PM2.5              | 2                         | Aberdeen   | WA       | Washington | 46.9757 | -123.809 | 16571      | 588     | America/Los_Angeles\n",
       "... (5617315 rows omitted)"
      ]
     },
     "execution_count": 58,
     "metadata": {},
     "output_type": "execute_result"
    }
   ],
   "source": [
    "aqi"
   ]
  },
  {
   "cell_type": "code",
   "execution_count": 59,
   "id": "d750bef9-8625-422e-8213-3b38dced6ed7",
   "metadata": {
    "tags": []
   },
   "outputs": [
    {
     "data": {
      "text/html": [
       "<table border=\"1\" class=\"dataframe\">\n",
       "    <thead>\n",
       "        <tr>\n",
       "            <th>Unnamed: 0</th> <th>CBSA Code</th> <th>Date</th> <th>AQI</th> <th>Category</th> <th>Defining Parameter</th> <th>Number of Sites Reporting</th> <th>city_ascii</th> <th>state_id</th> <th>state_name</th> <th>lat</th> <th>lng</th> <th>population</th> <th>density</th> <th>timezone</th>\n",
       "        </tr>\n",
       "    </thead>\n",
       "    <tbody>\n",
       "        <tr>\n",
       "            <td>1325      </td> <td>12540    </td> <td>2022-01-01</td> <td>69  </td> <td>Moderate                      </td> <td>PM2.5             </td> <td>2                        </td> <td>Bakersfield</td> <td>CA      </td> <td>California</td> <td>35.3529</td> <td>-119.036</td> <td>556892    </td> <td>979    </td> <td>America/Los_Angeles</td>\n",
       "        </tr>\n",
       "        <tr>\n",
       "            <td>1326      </td> <td>12540    </td> <td>2022-01-02</td> <td>137 </td> <td>Unhealthy for Sensitive Groups</td> <td>PM2.5             </td> <td>3                        </td> <td>Bakersfield</td> <td>CA      </td> <td>California</td> <td>35.3529</td> <td>-119.036</td> <td>556892    </td> <td>979    </td> <td>America/Los_Angeles</td>\n",
       "        </tr>\n",
       "        <tr>\n",
       "            <td>1327      </td> <td>12540    </td> <td>2022-01-03</td> <td>58  </td> <td>Moderate                      </td> <td>PM2.5             </td> <td>2                        </td> <td>Bakersfield</td> <td>CA      </td> <td>California</td> <td>35.3529</td> <td>-119.036</td> <td>556892    </td> <td>979    </td> <td>America/Los_Angeles</td>\n",
       "        </tr>\n",
       "        <tr>\n",
       "            <td>1328      </td> <td>12540    </td> <td>2022-01-04</td> <td>56  </td> <td>Moderate                      </td> <td>PM2.5             </td> <td>2                        </td> <td>Bakersfield</td> <td>CA      </td> <td>California</td> <td>35.3529</td> <td>-119.036</td> <td>556892    </td> <td>979    </td> <td>America/Los_Angeles</td>\n",
       "        </tr>\n",
       "        <tr>\n",
       "            <td>1329      </td> <td>12540    </td> <td>2022-01-05</td> <td>127 </td> <td>Unhealthy for Sensitive Groups</td> <td>PM2.5             </td> <td>3                        </td> <td>Bakersfield</td> <td>CA      </td> <td>California</td> <td>35.3529</td> <td>-119.036</td> <td>556892    </td> <td>979    </td> <td>America/Los_Angeles</td>\n",
       "        </tr>\n",
       "        <tr>\n",
       "            <td>1330      </td> <td>12540    </td> <td>2022-01-06</td> <td>71  </td> <td>Moderate                      </td> <td>PM2.5             </td> <td>2                        </td> <td>Bakersfield</td> <td>CA      </td> <td>California</td> <td>35.3529</td> <td>-119.036</td> <td>556892    </td> <td>979    </td> <td>America/Los_Angeles</td>\n",
       "        </tr>\n",
       "        <tr>\n",
       "            <td>1331      </td> <td>12540    </td> <td>2022-01-07</td> <td>95  </td> <td>Moderate                      </td> <td>PM2.5             </td> <td>2                        </td> <td>Bakersfield</td> <td>CA      </td> <td>California</td> <td>35.3529</td> <td>-119.036</td> <td>556892    </td> <td>979    </td> <td>America/Los_Angeles</td>\n",
       "        </tr>\n",
       "        <tr>\n",
       "            <td>1332      </td> <td>12540    </td> <td>2022-01-08</td> <td>111 </td> <td>Unhealthy for Sensitive Groups</td> <td>PM2.5             </td> <td>3                        </td> <td>Bakersfield</td> <td>CA      </td> <td>California</td> <td>35.3529</td> <td>-119.036</td> <td>556892    </td> <td>979    </td> <td>America/Los_Angeles</td>\n",
       "        </tr>\n",
       "        <tr>\n",
       "            <td>1333      </td> <td>12540    </td> <td>2022-01-09</td> <td>72  </td> <td>Moderate                      </td> <td>PM2.5             </td> <td>2                        </td> <td>Bakersfield</td> <td>CA      </td> <td>California</td> <td>35.3529</td> <td>-119.036</td> <td>556892    </td> <td>979    </td> <td>America/Los_Angeles</td>\n",
       "        </tr>\n",
       "        <tr>\n",
       "            <td>1334      </td> <td>12540    </td> <td>2022-01-10</td> <td>88  </td> <td>Moderate                      </td> <td>PM2.5             </td> <td>2                        </td> <td>Bakersfield</td> <td>CA      </td> <td>California</td> <td>35.3529</td> <td>-119.036</td> <td>556892    </td> <td>979    </td> <td>America/Los_Angeles</td>\n",
       "        </tr>\n",
       "    </tbody>\n",
       "</table>\n",
       "<p>... (477810 rows omitted)</p>"
      ],
      "text/plain": [
       "Unnamed: 0 | CBSA Code | Date       | AQI  | Category                       | Defining Parameter | Number of Sites Reporting | city_ascii  | state_id | state_name | lat     | lng      | population | density | timezone\n",
       "1325       | 12540     | 2022-01-01 | 69   | Moderate                       | PM2.5              | 2                         | Bakersfield | CA       | California | 35.3529 | -119.036 | 556892     | 979     | America/Los_Angeles\n",
       "1326       | 12540     | 2022-01-02 | 137  | Unhealthy for Sensitive Groups | PM2.5              | 3                         | Bakersfield | CA       | California | 35.3529 | -119.036 | 556892     | 979     | America/Los_Angeles\n",
       "1327       | 12540     | 2022-01-03 | 58   | Moderate                       | PM2.5              | 2                         | Bakersfield | CA       | California | 35.3529 | -119.036 | 556892     | 979     | America/Los_Angeles\n",
       "1328       | 12540     | 2022-01-04 | 56   | Moderate                       | PM2.5              | 2                         | Bakersfield | CA       | California | 35.3529 | -119.036 | 556892     | 979     | America/Los_Angeles\n",
       "1329       | 12540     | 2022-01-05 | 127  | Unhealthy for Sensitive Groups | PM2.5              | 3                         | Bakersfield | CA       | California | 35.3529 | -119.036 | 556892     | 979     | America/Los_Angeles\n",
       "1330       | 12540     | 2022-01-06 | 71   | Moderate                       | PM2.5              | 2                         | Bakersfield | CA       | California | 35.3529 | -119.036 | 556892     | 979     | America/Los_Angeles\n",
       "1331       | 12540     | 2022-01-07 | 95   | Moderate                       | PM2.5              | 2                         | Bakersfield | CA       | California | 35.3529 | -119.036 | 556892     | 979     | America/Los_Angeles\n",
       "1332       | 12540     | 2022-01-08 | 111  | Unhealthy for Sensitive Groups | PM2.5              | 3                         | Bakersfield | CA       | California | 35.3529 | -119.036 | 556892     | 979     | America/Los_Angeles\n",
       "1333       | 12540     | 2022-01-09 | 72   | Moderate                       | PM2.5              | 2                         | Bakersfield | CA       | California | 35.3529 | -119.036 | 556892     | 979     | America/Los_Angeles\n",
       "1334       | 12540     | 2022-01-10 | 88   | Moderate                       | PM2.5              | 2                         | Bakersfield | CA       | California | 35.3529 | -119.036 | 556892     | 979     | America/Los_Angeles\n",
       "... (477810 rows omitted)"
      ]
     },
     "execution_count": 59,
     "metadata": {},
     "output_type": "execute_result"
    }
   ],
   "source": [
    "aqi = aqi.where(\"state_id\", are.equal_to(\"CA\"))\n",
    "aqi"
   ]
  },
  {
   "cell_type": "code",
   "execution_count": 60,
   "id": "9c562855-5851-455c-ae8a-16b2e1985839",
   "metadata": {
    "tags": []
   },
   "outputs": [],
   "source": [
    "#dates = aqi.group(\"Date\")"
   ]
  },
  {
   "cell_type": "code",
   "execution_count": 63,
   "id": "27d5ac33-59e5-4387-a651-9f0fb005b2ee",
   "metadata": {
    "tags": []
   },
   "outputs": [
    {
     "data": {
      "text/html": [
       "<table border=\"1\" class=\"dataframe\">\n",
       "    <thead>\n",
       "        <tr>\n",
       "            <th>Unnamed: 0</th> <th>CBSA Code</th> <th>Date</th> <th>AQI</th> <th>Category</th> <th>Defining Parameter</th> <th>Number of Sites Reporting</th> <th>city_ascii</th> <th>state_id</th> <th>state_name</th> <th>lat</th> <th>lng</th> <th>population</th> <th>density</th> <th>timezone</th>\n",
       "        </tr>\n",
       "    </thead>\n",
       "    <tbody>\n",
       "        <tr>\n",
       "            <td>1905038   </td> <td>12540    </td> <td>2010-01-01</td> <td>129 </td> <td>Unhealthy for Sensitive Groups</td> <td>PM2.5             </td> <td>9                        </td> <td>Bakersfield</td> <td>CA      </td> <td>California</td> <td>35.3529</td> <td>-119.036</td> <td>556892    </td> <td>979    </td> <td>America/Los_Angeles</td>\n",
       "        </tr>\n",
       "        <tr>\n",
       "            <td>1905039   </td> <td>12540    </td> <td>2010-01-02</td> <td>98  </td> <td>Moderate                      </td> <td>PM2.5             </td> <td>12                       </td> <td>Bakersfield</td> <td>CA      </td> <td>California</td> <td>35.3529</td> <td>-119.036</td> <td>556892    </td> <td>979    </td> <td>America/Los_Angeles</td>\n",
       "        </tr>\n",
       "        <tr>\n",
       "            <td>1905040   </td> <td>12540    </td> <td>2010-01-03</td> <td>103 </td> <td>Unhealthy for Sensitive Groups</td> <td>PM2.5             </td> <td>10                       </td> <td>Bakersfield</td> <td>CA      </td> <td>California</td> <td>35.3529</td> <td>-119.036</td> <td>556892    </td> <td>979    </td> <td>America/Los_Angeles</td>\n",
       "        </tr>\n",
       "        <tr>\n",
       "            <td>1905041   </td> <td>12540    </td> <td>2010-01-04</td> <td>107 </td> <td>Unhealthy for Sensitive Groups</td> <td>PM2.5             </td> <td>10                       </td> <td>Bakersfield</td> <td>CA      </td> <td>California</td> <td>35.3529</td> <td>-119.036</td> <td>556892    </td> <td>979    </td> <td>America/Los_Angeles</td>\n",
       "        </tr>\n",
       "        <tr>\n",
       "            <td>1905042   </td> <td>12540    </td> <td>2010-01-05</td> <td>151 </td> <td>Unhealthy                     </td> <td>PM2.5             </td> <td>12                       </td> <td>Bakersfield</td> <td>CA      </td> <td>California</td> <td>35.3529</td> <td>-119.036</td> <td>556892    </td> <td>979    </td> <td>America/Los_Angeles</td>\n",
       "        </tr>\n",
       "        <tr>\n",
       "            <td>1905043   </td> <td>12540    </td> <td>2010-01-06</td> <td>120 </td> <td>Unhealthy for Sensitive Groups</td> <td>PM2.5             </td> <td>9                        </td> <td>Bakersfield</td> <td>CA      </td> <td>California</td> <td>35.3529</td> <td>-119.036</td> <td>556892    </td> <td>979    </td> <td>America/Los_Angeles</td>\n",
       "        </tr>\n",
       "        <tr>\n",
       "            <td>1905044   </td> <td>12540    </td> <td>2010-01-07</td> <td>87  </td> <td>Moderate                      </td> <td>PM2.5             </td> <td>9                        </td> <td>Bakersfield</td> <td>CA      </td> <td>California</td> <td>35.3529</td> <td>-119.036</td> <td>556892    </td> <td>979    </td> <td>America/Los_Angeles</td>\n",
       "        </tr>\n",
       "        <tr>\n",
       "            <td>1905045   </td> <td>12540    </td> <td>2010-01-08</td> <td>77  </td> <td>Moderate                      </td> <td>PM2.5             </td> <td>13                       </td> <td>Bakersfield</td> <td>CA      </td> <td>California</td> <td>35.3529</td> <td>-119.036</td> <td>556892    </td> <td>979    </td> <td>America/Los_Angeles</td>\n",
       "        </tr>\n",
       "        <tr>\n",
       "            <td>1905046   </td> <td>12540    </td> <td>2010-01-09</td> <td>82  </td> <td>Moderate                      </td> <td>PM2.5             </td> <td>9                        </td> <td>Bakersfield</td> <td>CA      </td> <td>California</td> <td>35.3529</td> <td>-119.036</td> <td>556892    </td> <td>979    </td> <td>America/Los_Angeles</td>\n",
       "        </tr>\n",
       "        <tr>\n",
       "            <td>1905047   </td> <td>12540    </td> <td>2010-01-10</td> <td>91  </td> <td>Moderate                      </td> <td>PM2.5             </td> <td>9                        </td> <td>Bakersfield</td> <td>CA      </td> <td>California</td> <td>35.3529</td> <td>-119.036</td> <td>556892    </td> <td>979    </td> <td>America/Los_Angeles</td>\n",
       "        </tr>\n",
       "    </tbody>\n",
       "</table>\n",
       "<p>... (131562 rows omitted)</p>"
      ],
      "text/plain": [
       "Unnamed: 0 | CBSA Code | Date       | AQI  | Category                       | Defining Parameter | Number of Sites Reporting | city_ascii  | state_id | state_name | lat     | lng      | population | density | timezone\n",
       "1905038    | 12540     | 2010-01-01 | 129  | Unhealthy for Sensitive Groups | PM2.5              | 9                         | Bakersfield | CA       | California | 35.3529 | -119.036 | 556892     | 979     | America/Los_Angeles\n",
       "1905039    | 12540     | 2010-01-02 | 98   | Moderate                       | PM2.5              | 12                        | Bakersfield | CA       | California | 35.3529 | -119.036 | 556892     | 979     | America/Los_Angeles\n",
       "1905040    | 12540     | 2010-01-03 | 103  | Unhealthy for Sensitive Groups | PM2.5              | 10                        | Bakersfield | CA       | California | 35.3529 | -119.036 | 556892     | 979     | America/Los_Angeles\n",
       "1905041    | 12540     | 2010-01-04 | 107  | Unhealthy for Sensitive Groups | PM2.5              | 10                        | Bakersfield | CA       | California | 35.3529 | -119.036 | 556892     | 979     | America/Los_Angeles\n",
       "1905042    | 12540     | 2010-01-05 | 151  | Unhealthy                      | PM2.5              | 12                        | Bakersfield | CA       | California | 35.3529 | -119.036 | 556892     | 979     | America/Los_Angeles\n",
       "1905043    | 12540     | 2010-01-06 | 120  | Unhealthy for Sensitive Groups | PM2.5              | 9                         | Bakersfield | CA       | California | 35.3529 | -119.036 | 556892     | 979     | America/Los_Angeles\n",
       "1905044    | 12540     | 2010-01-07 | 87   | Moderate                       | PM2.5              | 9                         | Bakersfield | CA       | California | 35.3529 | -119.036 | 556892     | 979     | America/Los_Angeles\n",
       "1905045    | 12540     | 2010-01-08 | 77   | Moderate                       | PM2.5              | 13                        | Bakersfield | CA       | California | 35.3529 | -119.036 | 556892     | 979     | America/Los_Angeles\n",
       "1905046    | 12540     | 2010-01-09 | 82   | Moderate                       | PM2.5              | 9                         | Bakersfield | CA       | California | 35.3529 | -119.036 | 556892     | 979     | America/Los_Angeles\n",
       "1905047    | 12540     | 2010-01-10 | 91   | Moderate                       | PM2.5              | 9                         | Bakersfield | CA       | California | 35.3529 | -119.036 | 556892     | 979     | America/Los_Angeles\n",
       "... (131562 rows omitted)"
      ]
     },
     "execution_count": 63,
     "metadata": {},
     "output_type": "execute_result"
    }
   ],
   "source": [
    "aqi = aqi.where(\"Date\", are.strictly_between(\"1999-12-31\", \"2011-01-01\"))\n",
    "aqi"
   ]
  },
  {
   "cell_type": "code",
   "execution_count": 69,
   "id": "2de3866e-085c-473f-b6d4-a89669e816c9",
   "metadata": {
    "tags": []
   },
   "outputs": [
    {
     "data": {
      "text/html": [
       "<table border=\"1\" class=\"dataframe\">\n",
       "    <thead>\n",
       "        <tr>\n",
       "            <th>Unnamed: 0</th> <th>CBSA Code</th> <th>Date</th> <th>AQI</th> <th>Category</th> <th>Defining Parameter</th> <th>Number of Sites Reporting</th> <th>city_ascii</th> <th>state_id</th> <th>state_name</th> <th>lat</th> <th>lng</th> <th>population</th> <th>density</th> <th>timezone</th>\n",
       "        </tr>\n",
       "    </thead>\n",
       "    <tbody>\n",
       "        <tr>\n",
       "            <td>3334599   </td> <td>13860    </td> <td>2001-05-02</td> <td>20646</td> <td>Hazardous</td> <td>PM10              </td> <td>6                        </td> <td>Bishop    </td> <td>CA      </td> <td>California</td> <td>37.3665</td> <td>-118.396</td> <td>3747      </td> <td>776    </td> <td>America/Los_Angeles</td>\n",
       "        </tr>\n",
       "        <tr>\n",
       "            <td>3034632   </td> <td>13860    </td> <td>2003-02-02</td> <td>16515</td> <td>Hazardous</td> <td>PM10              </td> <td>8                        </td> <td>Bishop    </td> <td>CA      </td> <td>California</td> <td>37.3665</td> <td>-118.396</td> <td>3747      </td> <td>776    </td> <td>America/Los_Angeles</td>\n",
       "        </tr>\n",
       "        <tr>\n",
       "            <td>3334516   </td> <td>13860    </td> <td>2001-02-08</td> <td>12056</td> <td>Hazardous</td> <td>PM10              </td> <td>6                        </td> <td>Bishop    </td> <td>CA      </td> <td>California</td> <td>37.3665</td> <td>-118.396</td> <td>3747      </td> <td>776    </td> <td>America/Los_Angeles</td>\n",
       "        </tr>\n",
       "        <tr>\n",
       "            <td>3334515   </td> <td>13860    </td> <td>2001-02-07</td> <td>10856</td> <td>Hazardous</td> <td>PM10              </td> <td>6                        </td> <td>Bishop    </td> <td>CA      </td> <td>California</td> <td>37.3665</td> <td>-118.396</td> <td>3747      </td> <td>776    </td> <td>America/Los_Angeles</td>\n",
       "        </tr>\n",
       "        <tr>\n",
       "            <td>3481410   </td> <td>13860    </td> <td>2000-10-22</td> <td>10736</td> <td>Hazardous</td> <td>PM10              </td> <td>5                        </td> <td>Bishop    </td> <td>CA      </td> <td>California</td> <td>37.3665</td> <td>-118.396</td> <td>3747      </td> <td>776    </td> <td>America/Los_Angeles</td>\n",
       "        </tr>\n",
       "        <tr>\n",
       "            <td>3481194   </td> <td>13860    </td> <td>2000-03-20</td> <td>10446</td> <td>Hazardous</td> <td>PM10              </td> <td>5                        </td> <td>Bishop    </td> <td>CA      </td> <td>California</td> <td>37.3665</td> <td>-118.396</td> <td>3747      </td> <td>776    </td> <td>America/Los_Angeles</td>\n",
       "        </tr>\n",
       "        <tr>\n",
       "            <td>2567287   </td> <td>13860    </td> <td>2006-02-15</td> <td>8195 </td> <td>Hazardous</td> <td>PM10              </td> <td>10                       </td> <td>Bishop    </td> <td>CA      </td> <td>California</td> <td>37.3665</td> <td>-118.396</td> <td>3747      </td> <td>776    </td> <td>America/Los_Angeles</td>\n",
       "        </tr>\n",
       "        <tr>\n",
       "            <td>3185676   </td> <td>13860    </td> <td>2002-03-01</td> <td>7811 </td> <td>Hazardous</td> <td>PM10              </td> <td>7                        </td> <td>Bishop    </td> <td>CA      </td> <td>California</td> <td>37.3665</td> <td>-118.396</td> <td>3747      </td> <td>776    </td> <td>America/Los_Angeles</td>\n",
       "        </tr>\n",
       "        <tr>\n",
       "            <td>3185723   </td> <td>13860    </td> <td>2002-04-17</td> <td>6967 </td> <td>Hazardous</td> <td>PM10              </td> <td>8                        </td> <td>Bishop    </td> <td>CA      </td> <td>California</td> <td>37.3665</td> <td>-118.396</td> <td>3747      </td> <td>776    </td> <td>America/Los_Angeles</td>\n",
       "        </tr>\n",
       "        <tr>\n",
       "            <td>3034676   </td> <td>13860    </td> <td>2003-03-18</td> <td>6488 </td> <td>Hazardous</td> <td>PM10              </td> <td>7                        </td> <td>Bishop    </td> <td>CA      </td> <td>California</td> <td>37.3665</td> <td>-118.396</td> <td>3747      </td> <td>776    </td> <td>America/Los_Angeles</td>\n",
       "        </tr>\n",
       "    </tbody>\n",
       "</table>\n",
       "<p>... (131562 rows omitted)</p>"
      ],
      "text/plain": [
       "Unnamed: 0 | CBSA Code | Date       | AQI   | Category  | Defining Parameter | Number of Sites Reporting | city_ascii | state_id | state_name | lat     | lng      | population | density | timezone\n",
       "3334599    | 13860     | 2001-05-02 | 20646 | Hazardous | PM10               | 6                         | Bishop     | CA       | California | 37.3665 | -118.396 | 3747       | 776     | America/Los_Angeles\n",
       "3034632    | 13860     | 2003-02-02 | 16515 | Hazardous | PM10               | 8                         | Bishop     | CA       | California | 37.3665 | -118.396 | 3747       | 776     | America/Los_Angeles\n",
       "3334516    | 13860     | 2001-02-08 | 12056 | Hazardous | PM10               | 6                         | Bishop     | CA       | California | 37.3665 | -118.396 | 3747       | 776     | America/Los_Angeles\n",
       "3334515    | 13860     | 2001-02-07 | 10856 | Hazardous | PM10               | 6                         | Bishop     | CA       | California | 37.3665 | -118.396 | 3747       | 776     | America/Los_Angeles\n",
       "3481410    | 13860     | 2000-10-22 | 10736 | Hazardous | PM10               | 5                         | Bishop     | CA       | California | 37.3665 | -118.396 | 3747       | 776     | America/Los_Angeles\n",
       "3481194    | 13860     | 2000-03-20 | 10446 | Hazardous | PM10               | 5                         | Bishop     | CA       | California | 37.3665 | -118.396 | 3747       | 776     | America/Los_Angeles\n",
       "2567287    | 13860     | 2006-02-15 | 8195  | Hazardous | PM10               | 10                        | Bishop     | CA       | California | 37.3665 | -118.396 | 3747       | 776     | America/Los_Angeles\n",
       "3185676    | 13860     | 2002-03-01 | 7811  | Hazardous | PM10               | 7                         | Bishop     | CA       | California | 37.3665 | -118.396 | 3747       | 776     | America/Los_Angeles\n",
       "3185723    | 13860     | 2002-04-17 | 6967  | Hazardous | PM10               | 8                         | Bishop     | CA       | California | 37.3665 | -118.396 | 3747       | 776     | America/Los_Angeles\n",
       "3034676    | 13860     | 2003-03-18 | 6488  | Hazardous | PM10               | 7                         | Bishop     | CA       | California | 37.3665 | -118.396 | 3747       | 776     | America/Los_Angeles\n",
       "... (131562 rows omitted)"
      ]
     },
     "execution_count": 69,
     "metadata": {},
     "output_type": "execute_result"
    }
   ],
   "source": [
    "aqi.sort(\"AQI\", descending = True)"
   ]
  },
  {
   "cell_type": "code",
   "execution_count": 88,
   "id": "b3d0b31d-6d9f-434f-b139-077dd1188df3",
   "metadata": {
    "tags": []
   },
   "outputs": [
    {
     "data": {
      "text/html": [
       "<table border=\"1\" class=\"dataframe\">\n",
       "    <thead>\n",
       "        <tr>\n",
       "            <th>Unnamed: 0</th> <th>CBSA Code</th> <th>Date</th> <th>AQI</th> <th>Category</th> <th>Defining Parameter</th> <th>Number of Sites Reporting</th> <th>city_ascii</th> <th>state_id</th> <th>state_name</th> <th>lat</th> <th>lng</th> <th>population</th> <th>density</th> <th>timezone</th>\n",
       "        </tr>\n",
       "    </thead>\n",
       "    <tbody>\n",
       "        <tr>\n",
       "            <td>1910168   </td> <td>13860    </td> <td>2010-01-01</td> <td>31  </td> <td>Good    </td> <td>Ozone             </td> <td>11                       </td> <td>Bishop    </td> <td>CA      </td> <td>California</td> <td>37.3665</td> <td>-118.396</td> <td>3747      </td> <td>776    </td> <td>America/Los_Angeles</td>\n",
       "        </tr>\n",
       "        <tr>\n",
       "            <td>1910169   </td> <td>13860    </td> <td>2010-01-02</td> <td>29  </td> <td>Good    </td> <td>Ozone             </td> <td>11                       </td> <td>Bishop    </td> <td>CA      </td> <td>California</td> <td>37.3665</td> <td>-118.396</td> <td>3747      </td> <td>776    </td> <td>America/Los_Angeles</td>\n",
       "        </tr>\n",
       "        <tr>\n",
       "            <td>1910170   </td> <td>13860    </td> <td>2010-01-03</td> <td>28  </td> <td>Good    </td> <td>Ozone             </td> <td>11                       </td> <td>Bishop    </td> <td>CA      </td> <td>California</td> <td>37.3665</td> <td>-118.396</td> <td>3747      </td> <td>776    </td> <td>America/Los_Angeles</td>\n",
       "        </tr>\n",
       "        <tr>\n",
       "            <td>1910171   </td> <td>13860    </td> <td>2010-01-04</td> <td>26  </td> <td>Good    </td> <td>Ozone             </td> <td>11                       </td> <td>Bishop    </td> <td>CA      </td> <td>California</td> <td>37.3665</td> <td>-118.396</td> <td>3747      </td> <td>776    </td> <td>America/Los_Angeles</td>\n",
       "        </tr>\n",
       "        <tr>\n",
       "            <td>1910172   </td> <td>13860    </td> <td>2010-01-05</td> <td>26  </td> <td>Good    </td> <td>Ozone             </td> <td>11                       </td> <td>Bishop    </td> <td>CA      </td> <td>California</td> <td>37.3665</td> <td>-118.396</td> <td>3747      </td> <td>776    </td> <td>America/Los_Angeles</td>\n",
       "        </tr>\n",
       "        <tr>\n",
       "            <td>1910173   </td> <td>13860    </td> <td>2010-01-06</td> <td>21  </td> <td>Good    </td> <td>PM2.5             </td> <td>10                       </td> <td>Bishop    </td> <td>CA      </td> <td>California</td> <td>37.3665</td> <td>-118.396</td> <td>3747      </td> <td>776    </td> <td>America/Los_Angeles</td>\n",
       "        </tr>\n",
       "        <tr>\n",
       "            <td>1910174   </td> <td>13860    </td> <td>2010-01-07</td> <td>24  </td> <td>Good    </td> <td>PM2.5             </td> <td>10                       </td> <td>Bishop    </td> <td>CA      </td> <td>California</td> <td>37.3665</td> <td>-118.396</td> <td>3747      </td> <td>776    </td> <td>America/Los_Angeles</td>\n",
       "        </tr>\n",
       "        <tr>\n",
       "            <td>1910175   </td> <td>13860    </td> <td>2010-01-08</td> <td>29  </td> <td>Good    </td> <td>Ozone             </td> <td>11                       </td> <td>Bishop    </td> <td>CA      </td> <td>California</td> <td>37.3665</td> <td>-118.396</td> <td>3747      </td> <td>776    </td> <td>America/Los_Angeles</td>\n",
       "        </tr>\n",
       "        <tr>\n",
       "            <td>1910176   </td> <td>13860    </td> <td>2010-01-09</td> <td>28  </td> <td>Good    </td> <td>Ozone             </td> <td>11                       </td> <td>Bishop    </td> <td>CA      </td> <td>California</td> <td>37.3665</td> <td>-118.396</td> <td>3747      </td> <td>776    </td> <td>America/Los_Angeles</td>\n",
       "        </tr>\n",
       "        <tr>\n",
       "            <td>1910177   </td> <td>13860    </td> <td>2010-01-10</td> <td>25  </td> <td>Good    </td> <td>Ozone             </td> <td>11                       </td> <td>Bishop    </td> <td>CA      </td> <td>California</td> <td>37.3665</td> <td>-118.396</td> <td>3747      </td> <td>776    </td> <td>America/Los_Angeles</td>\n",
       "        </tr>\n",
       "    </tbody>\n",
       "</table>\n",
       "<p>... (4008 rows omitted)</p>"
      ],
      "text/plain": [
       "Unnamed: 0 | CBSA Code | Date       | AQI  | Category | Defining Parameter | Number of Sites Reporting | city_ascii | state_id | state_name | lat     | lng      | population | density | timezone\n",
       "1910168    | 13860     | 2010-01-01 | 31   | Good     | Ozone              | 11                        | Bishop     | CA       | California | 37.3665 | -118.396 | 3747       | 776     | America/Los_Angeles\n",
       "1910169    | 13860     | 2010-01-02 | 29   | Good     | Ozone              | 11                        | Bishop     | CA       | California | 37.3665 | -118.396 | 3747       | 776     | America/Los_Angeles\n",
       "1910170    | 13860     | 2010-01-03 | 28   | Good     | Ozone              | 11                        | Bishop     | CA       | California | 37.3665 | -118.396 | 3747       | 776     | America/Los_Angeles\n",
       "1910171    | 13860     | 2010-01-04 | 26   | Good     | Ozone              | 11                        | Bishop     | CA       | California | 37.3665 | -118.396 | 3747       | 776     | America/Los_Angeles\n",
       "1910172    | 13860     | 2010-01-05 | 26   | Good     | Ozone              | 11                        | Bishop     | CA       | California | 37.3665 | -118.396 | 3747       | 776     | America/Los_Angeles\n",
       "1910173    | 13860     | 2010-01-06 | 21   | Good     | PM2.5              | 10                        | Bishop     | CA       | California | 37.3665 | -118.396 | 3747       | 776     | America/Los_Angeles\n",
       "1910174    | 13860     | 2010-01-07 | 24   | Good     | PM2.5              | 10                        | Bishop     | CA       | California | 37.3665 | -118.396 | 3747       | 776     | America/Los_Angeles\n",
       "1910175    | 13860     | 2010-01-08 | 29   | Good     | Ozone              | 11                        | Bishop     | CA       | California | 37.3665 | -118.396 | 3747       | 776     | America/Los_Angeles\n",
       "1910176    | 13860     | 2010-01-09 | 28   | Good     | Ozone              | 11                        | Bishop     | CA       | California | 37.3665 | -118.396 | 3747       | 776     | America/Los_Angeles\n",
       "1910177    | 13860     | 2010-01-10 | 25   | Good     | Ozone              | 11                        | Bishop     | CA       | California | 37.3665 | -118.396 | 3747       | 776     | America/Los_Angeles\n",
       "... (4008 rows omitted)"
      ]
     },
     "execution_count": 88,
     "metadata": {},
     "output_type": "execute_result"
    }
   ],
   "source": [
    "example = aqi.where(\"city_ascii\", are.equal_to(\"Bishop\"))\n",
    "example"
   ]
  },
  {
   "cell_type": "code",
   "execution_count": 89,
   "id": "aea67a59-a22d-415b-9866-b5fe151e82f9",
   "metadata": {
    "tags": []
   },
   "outputs": [
    {
     "data": {
      "image/png": "[encoded data removed]",
      "text/plain": [
       "<Figure size 600x400 with 1 Axes>"
      ]
     },
     "metadata": {},
     "output_type": "display_data"
    }
   ],
   "source": [
    "bins = [0, 50, 100, 150, 200, 300, 500]\n",
    "example.hist(\"AQI\", bins=bins)"
   ]
  },
  {
   "cell_type": "code",
   "execution_count": 90,
   "id": "0df9af1a-6de1-431d-8179-974be175b672",
   "metadata": {
    "tags": []
   },
   "outputs": [
    {
     "data": {
      "text/plain": [
       "20646"
      ]
     },
     "execution_count": 90,
     "metadata": {},
     "output_type": "execute_result"
    }
   ],
   "source": [
    "max(example.column(\"AQI\"))"
   ]
  },
  {
   "cell_type": "code",
   "execution_count": null,
   "id": "e2add08c-aa39-4020-bcfe-921ba8351f35",
   "metadata": {},
   "outputs": [],
   "source": []
  }
 ],
 "metadata": {
  "kernelspec": {
   "display_name": "Python 3 (ipykernel)",
   "language": "python",
   "name": "python3"
  },
  "language_info": {
   "codemirror_mode": {
    "name": "ipython",
    "version": 3
   },
   "file_extension": ".py",
   "mimetype": "text/x-python",
   "name": "python",
   "nbconvert_exporter": "python",
   "pygments_lexer": "ipython3",
   "version": "3.11.4"
  }
 },
 "nbformat": 4,
 "nbformat_minor": 5
}
